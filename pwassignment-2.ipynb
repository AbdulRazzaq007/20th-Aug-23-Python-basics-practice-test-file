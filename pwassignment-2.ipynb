{
 "cells": [
  {
   "cell_type": "code",
   "execution_count": 1,
   "id": "88665ad8",
   "metadata": {},
   "outputs": [
    {
     "name": "stdout",
     "output_type": "stream",
     "text": [
      "Enter input string to reverse the string pwskills\n",
      "Reverse of Input string is :  sllikswp\n"
     ]
    }
   ],
   "source": [
    "# 1. Write a program to reverse a string.\n",
    "\n",
    "\n",
    "inp_string = input(\"Enter input string to reverse the string \")\n",
    "reverse_string = inp_string[::-1]\n",
    "print(\"Reverse of Input string is : \",reverse_string)"
   ]
  },
  {
   "cell_type": "code",
   "execution_count": 2,
   "id": "790fe61e",
   "metadata": {},
   "outputs": [
    {
     "name": "stdout",
     "output_type": "stream",
     "text": [
      "Enter string to check whether string is pallindrome or not malayalam\n",
      "Entered string is pallindrome\n"
     ]
    }
   ],
   "source": [
    "# 2. Check if a string is a palindrome.\n",
    "\n",
    "string = input(\"Enter string to check whether string is pallindrome or not \")\n",
    "if string[::-1]==string[::]:\n",
    "    print(\"Entered string is pallindrome\")\n",
    "else:\n",
    "    print(\"Entered string is not pallindrome\")"
   ]
  },
  {
   "cell_type": "code",
   "execution_count": 3,
   "id": "14b288dc",
   "metadata": {},
   "outputs": [
    {
     "name": "stdout",
     "output_type": "stream",
     "text": [
      "Enter string to convert into uppercase pwskills\n",
      "PWSKILLS\n"
     ]
    }
   ],
   "source": [
    "# 3. Convert a string to uppercase.\n",
    "\n",
    "string1= input(\"Enter string to convert into uppercase \")\n",
    "print(string1.upper())"
   ]
  },
  {
   "cell_type": "code",
   "execution_count": 4,
   "id": "4f4da92d",
   "metadata": {},
   "outputs": [
    {
     "name": "stdout",
     "output_type": "stream",
     "text": [
      "Enter string to convert into lowercase PWSKILLS\n",
      "pwskills\n"
     ]
    }
   ],
   "source": [
    "# 4. Convert a string to lowercase.\n",
    "\n",
    "string2 = input(\"Enter string to convert into lowercase \")\n",
    "print(string2.lower())"
   ]
  },
  {
   "cell_type": "code",
   "execution_count": 5,
   "id": "92c3dd4a",
   "metadata": {},
   "outputs": [
    {
     "name": "stdout",
     "output_type": "stream",
     "text": [
      "Enter string to count number of vowels in the string pwskills data science pro\n",
      "Number of vowels in the input string are :  7\n"
     ]
    }
   ],
   "source": [
    "# 5. Count the number of vowels in a string.\n",
    "\n",
    "string3 = input(\"Enter string to count number of vowels in the string \")\n",
    "vowels_count = string3.count('a')+string3.count('e')+string3.count('i')+string3.count('o')+string3.count('u')\n",
    "print(\"Number of vowels in the input string are : \" , vowels_count)"
   ]
  },
  {
   "cell_type": "code",
   "execution_count": 6,
   "id": "f7f71f96",
   "metadata": {},
   "outputs": [
    {
     "name": "stdout",
     "output_type": "stream",
     "text": [
      "Enter string to count number of consonants in a string : pwskills data science pro\n",
      "Numer of consonants in input string is :  15\n"
     ]
    }
   ],
   "source": [
    "# 6. Count the number of consonants in a string.\n",
    "\n",
    "string4 = input(\"Enter string to count number of consonants in a string : \")\n",
    "consonants_count = string4.count('b')+string4.count('c')+string4.count('d')+string4.count('f')+string4.count('g')+string4.count('h')+string4.count('j')+string4.count('k')+string4.count('l')+string4.count('m')+string4.count('n')+string4.count('r')+string4.count('p')+string4.count('q')+string4.count('s')+string4.count('t')+string4.count('v')+string4.count('w')+string4.count('x')+string4.count('y')+string4.count('z')\n",
    "print(\"Numer of consonants in input string is : \",consonants_count)"
   ]
  },
  {
   "cell_type": "code",
   "execution_count": 7,
   "id": "d2916062",
   "metadata": {},
   "outputs": [
    {
     "name": "stdout",
     "output_type": "stream",
     "text": [
      "Enter the string to remove all whitespaces pwskills data science pro batch\n",
      "String after removing the whitespaces is  pwskillsdatascienceprobatch\n"
     ]
    }
   ],
   "source": [
    "# 7. Remove all whitespaces from a string.\n",
    "\n",
    "string5 = input(\"Enter the string to remove all whitespaces \")\n",
    "remove_string = string5.replace(\" \",\"\")\n",
    "print(\"String after removing the whitespaces is \",remove_string)"
   ]
  },
  {
   "cell_type": "code",
   "execution_count": 8,
   "id": "0ff63fd9",
   "metadata": {},
   "outputs": [
    {
     "name": "stdout",
     "output_type": "stream",
     "text": [
      "Enter string to find the length of the string pwskillsdatascience\n",
      "19\n"
     ]
    }
   ],
   "source": [
    "# 8. Find the length of a string without using the `len()` function.\n",
    "\n",
    "string6 = input(\"Enter string to find the length of the string \")\n",
    "count = 0\n",
    "for i in string6:\n",
    "    count+= 1\n",
    "print(count)\n",
    "    \n",
    "    "
   ]
  },
  {
   "cell_type": "code",
   "execution_count": 9,
   "id": "d453cd26",
   "metadata": {},
   "outputs": [
    {
     "name": "stdout",
     "output_type": "stream",
     "text": [
      "Enter a string to check the specific word in the string: pwskills data science\n",
      "Enter a word to find in the string: science\n",
      "science is present in the above string\n"
     ]
    }
   ],
   "source": [
    "# 9. Check if a string contains a specific word.\n",
    "\n",
    "char = input(\"Enter a string to check the specific word in the string: \")\n",
    "word = input(\"Enter a word to find in the string: \")\n",
    "if word in char :\n",
    "    print(word,\"is present in the above string\")\n",
    "else:\n",
    "    print(word,\"is not present in the above string\")"
   ]
  },
  {
   "cell_type": "code",
   "execution_count": 10,
   "id": "c29049bf",
   "metadata": {},
   "outputs": [
    {
     "name": "stdout",
     "output_type": "stream",
     "text": [
      "Enter a string :pwskills data science pro\n",
      "Enter a word to replace from above string pro\n",
      "Enter a word to replace with masters\n",
      "Original string is :  pwskills data science pro\n",
      "Repalced string or new string is :  pwskills data science masters\n"
     ]
    }
   ],
   "source": [
    "# 10. Replace a word in a string with another word.\n",
    "\n",
    "char1 = input(\"Enter a string :\")\n",
    "word = input(\"Enter a word to replace from above string \")\n",
    "replacement_word = input(\"Enter a word to replace with \")\n",
    "\n",
    "new_string= char1.replace(word,replacement_word)\n",
    "\n",
    "print(\"Original string is : \", char1)\n",
    "print(\"Repalced string or new string is : \", new_string)"
   ]
  },
  {
   "cell_type": "code",
   "execution_count": 11,
   "id": "184fae9f",
   "metadata": {},
   "outputs": [
    {
     "name": "stdout",
     "output_type": "stream",
     "text": [
      "Enter the string to count the occurrences of the word : pwskills data science pro pro pro\n",
      "Enter the word to count from the above stringpro\n",
      "Number of occurence of the word in above string is :  3\n"
     ]
    }
   ],
   "source": [
    "# 11. Count the occurrences of a word in a string.\n",
    "\n",
    "char2 = input(\"Enter the string to count the occurrences of the word : \")\n",
    "word = input(\"Enter the word to count from the above string\")\n",
    "print(\"Number of occurence of the word in above string is : \",char2.count(word))"
   ]
  },
  {
   "cell_type": "code",
   "execution_count": 12,
   "id": "17012f0a",
   "metadata": {},
   "outputs": [
    {
     "name": "stdout",
     "output_type": "stream",
     "text": [
      "first occurrence of a word in a string:  9\n"
     ]
    }
   ],
   "source": [
    "# 12. Find the first occurrence of a word in a string.\n",
    "\n",
    "def first_occurrence(word,text):\n",
    "    x = text.find(word)\n",
    "    return x\n",
    "\n",
    "text= \"pwskills data science pro batch.pwskills data sudhanshu sir.\"\n",
    "word= \"data\"\n",
    "result=first_occurrence(word,text)\n",
    "print(\"first occurrence of a word in a string: \",result)\n"
   ]
  },
  {
   "cell_type": "code",
   "execution_count": 13,
   "id": "41cf8d1f",
   "metadata": {},
   "outputs": [
    {
     "name": "stdout",
     "output_type": "stream",
     "text": [
      "last occurrence of a word in a string:  41\n"
     ]
    }
   ],
   "source": [
    "# 13. Find the last occurrence of a word in a string.\n",
    "\n",
    "def last_occurrence(word,text):\n",
    "    x=text.rfind(word)\n",
    "    return x\n",
    "text= \"pwskills data science pro batch.pwskills data sudhanshu sir.\"\n",
    "word= \"data\"\n",
    "result=last_occurrence(word,text)\n",
    "print(\"last occurrence of a word in a string: \",result)\n"
   ]
  },
  {
   "cell_type": "code",
   "execution_count": 14,
   "id": "baa67d67",
   "metadata": {},
   "outputs": [
    {
     "name": "stdout",
     "output_type": "stream",
     "text": [
      "splitted string into a list of words:  ['pwskills', 'data', 'science', 'batch', '2024']\n"
     ]
    }
   ],
   "source": [
    "# 14. Split a string into a list of words.\n",
    "\n",
    "def split_string(sentence):\n",
    "    x = sentence.split()\n",
    "    return x\n",
    "\n",
    "sentence = \"pwskills data science batch 2024\"\n",
    "result = split_string(sentence)\n",
    "print(\"splitted string into a list of words: \", result)"
   ]
  },
  {
   "cell_type": "code",
   "execution_count": 15,
   "id": "e7929b88",
   "metadata": {},
   "outputs": [
    {
     "name": "stdout",
     "output_type": "stream",
     "text": [
      "The join list of words into a string is:  pwskills data science batch 2024\n"
     ]
    }
   ],
   "source": [
    "# 15. Join a list of words into a string.\n",
    "\n",
    "def join_alist(list_words):\n",
    "    join_list = ' '.join(list_words)\n",
    "    return join_list\n",
    "\n",
    "list_words =['pwskills', 'data', 'science', 'batch', '2024']\n",
    "result =join_alist(list_words)\n",
    "print(\"The join list of words into a string is: \",result)"
   ]
  },
  {
   "cell_type": "code",
   "execution_count": 16,
   "id": "b7480c5d",
   "metadata": {},
   "outputs": [
    {
     "name": "stdout",
     "output_type": "stream",
     "text": [
      "The join list of words into a string is:  pwskills_data_science_batch_2024\n"
     ]
    }
   ],
   "source": [
    "# 16. Convert a string where words are separated by spaces to one where words are separated by underscores.\n",
    "\n",
    "def join_alist(list_words):\n",
    "    join_list = '_'.join(list_words)\n",
    "    return join_list\n",
    "\n",
    "list_words =['pwskills', 'data', 'science', 'batch', '2024']\n",
    "result =join_alist(list_words)\n",
    "print(\"The join list of words into a string is: \",result)"
   ]
  },
  {
   "cell_type": "code",
   "execution_count": 17,
   "id": "0ca19458",
   "metadata": {},
   "outputs": [
    {
     "name": "stdout",
     "output_type": "stream",
     "text": [
      "it starts with a specific word or phrase\n"
     ]
    }
   ],
   "source": [
    "# 17. Check if a string starts with a specific word or phrase.\n",
    "\n",
    "def starts_with(string,word):\n",
    "    return string.startswith(word)\n",
    "\n",
    "\n",
    "string = \"pwskills data science pro\"\n",
    "word = \"pwskills\"\n",
    "if starts_with(string,word):\n",
    "    print(\"it starts with a specific word or phrase\")\n",
    "else:\n",
    "    print(\"it doesn't start with specific word or phrase\")"
   ]
  },
  {
   "cell_type": "code",
   "execution_count": 18,
   "id": "cf5f1481",
   "metadata": {},
   "outputs": [
    {
     "name": "stdout",
     "output_type": "stream",
     "text": [
      "it ends with a specific word or phrase\n"
     ]
    }
   ],
   "source": [
    "# 18. Check if a string ends with a specific word or phrase.\n",
    "\n",
    "def ends_with(string,word):\n",
    "    return string.endswith(word)\n",
    "\n",
    "\n",
    "string = \"pwskills data science pro\"\n",
    "word = \"pro\"\n",
    "if ends_with(string,word):\n",
    "    print(\"it ends with a specific word or phrase\")\n",
    "else:\n",
    "    print(\"it doesn't ends with specific word or phrase\")"
   ]
  },
  {
   "cell_type": "code",
   "execution_count": 19,
   "id": "a9f9d4b1",
   "metadata": {},
   "outputs": [
    {
     "name": "stdout",
     "output_type": "stream",
     "text": [
      "string to title case is :  Hello World\n"
     ]
    }
   ],
   "source": [
    "# 19. Convert a string to title case (e.g., \"hello world\" to \"Hello World\").\n",
    "\n",
    "def string_to_title(string):\n",
    "    \n",
    "    x = string.title()\n",
    "    return x\n",
    "\n",
    "string = \"hello world\"\n",
    "result = string_to_title(string)\n",
    "print(\"string to title case is : \",result)"
   ]
  },
  {
   "cell_type": "code",
   "execution_count": 20,
   "id": "e320015b",
   "metadata": {},
   "outputs": [
    {
     "name": "stdout",
     "output_type": "stream",
     "text": [
      "Longest word: pwskills\n"
     ]
    }
   ],
   "source": [
    "# 20. Find the longest word in a string.\n",
    "\n",
    "def find_longest_word(string):\n",
    "    \n",
    "    words = string.split()\n",
    "    \n",
    "    longest_word = \"\"\n",
    "    max_length = 0\n",
    "    \n",
    "\n",
    "    for word in words:\n",
    "    \n",
    "        word = word.strip(\",.?!;:\")\n",
    "    \n",
    "        if len(word) > max_length:\n",
    "            longest_word = word\n",
    "            max_length = len(word)\n",
    "    \n",
    "    return longest_word\n",
    "string = \"pwskills data science pro batch year 2024\"\n",
    "longest_word = find_longest_word(string)\n",
    "print(\"Longest word:\", longest_word)\n",
    "\n",
    "    \n",
    "    "
   ]
  },
  {
   "cell_type": "code",
   "execution_count": 21,
   "id": "5e811e07",
   "metadata": {},
   "outputs": [
    {
     "name": "stdout",
     "output_type": "stream",
     "text": [
      "Shortest word: pro\n"
     ]
    }
   ],
   "source": [
    "# 21. Find the shortest word in a string.\n",
    "def find_shortest_word(string):\n",
    "    \n",
    "    words = string.split()\n",
    "    \n",
    "    \n",
    "    shortest_word = None\n",
    "    \n",
    "    \n",
    "    for word in words:\n",
    "        \n",
    "        if shortest_word is None or len(word) < len(shortest_word):\n",
    "            shortest_word = word\n",
    "    \n",
    "    return shortest_word\n",
    "\n",
    "# Example usage:\n",
    "string = \"pwskills data science pro batch\"\n",
    "shortest_word = find_shortest_word(string)\n",
    "print(\"Shortest word:\", shortest_word)\n"
   ]
  },
  {
   "cell_type": "code",
   "execution_count": 22,
   "id": "9fc06f6a",
   "metadata": {},
   "outputs": [
    {
     "name": "stdout",
     "output_type": "stream",
     "text": [
      "Reverse order of words in a string:  2024 batch pro science data pwskills\n"
     ]
    }
   ],
   "source": [
    "# 22. Reverse the order of words in a string.\n",
    "\n",
    "def reverse_order(string):\n",
    "    x = string.split()\n",
    "    reverse = x[::-1]\n",
    "    join_list = \" \".join(reverse)\n",
    "    return join_list\n",
    "\n",
    "string = \"pwskills data science pro batch 2024\"\n",
    "result = reverse_order(string)\n",
    "print(\"Reverse order of words in a string: \",result)"
   ]
  },
  {
   "cell_type": "code",
   "execution_count": 23,
   "id": "f145a1e5",
   "metadata": {},
   "outputs": [
    {
     "name": "stdout",
     "output_type": "stream",
     "text": [
      "yes it is alphanumeric\n"
     ]
    }
   ],
   "source": [
    "# 23. Check if a string is alphanumeric.\n",
    "\n",
    "def is_alphanumeric(string):\n",
    "    x = string.isalnum()\n",
    "    return x\n",
    "\n",
    "string = \"Pwskills2024\"\n",
    "if is_alphanumeric(string):\n",
    "    print(\"yes it is alphanumeric\")\n",
    "else:\n",
    "    print(\"it is not alphanumeric\")\n"
   ]
  },
  {
   "cell_type": "code",
   "execution_count": 24,
   "id": "ce6ca42d",
   "metadata": {},
   "outputs": [
    {
     "name": "stdout",
     "output_type": "stream",
     "text": [
      "Extracted digits: 2024\n"
     ]
    }
   ],
   "source": [
    "# 24. Extract all digits from a string.\n",
    "\n",
    "def extract_digits(string):\n",
    "    digits = ''\n",
    "    for char in string:\n",
    "        if char.isdigit():\n",
    "            digits += char\n",
    "    return digits\n",
    "\n",
    "string = \"pwskills2024\"\n",
    "extracted_digits = extract_digits(string)\n",
    "print(\"Extracted digits:\", extracted_digits)\n"
   ]
  },
  {
   "cell_type": "code",
   "execution_count": 25,
   "id": "ccea94bd",
   "metadata": {},
   "outputs": [
    {
     "name": "stdout",
     "output_type": "stream",
     "text": [
      "extract alphabets from string:  pwskillsdatascienceprobatch\n"
     ]
    }
   ],
   "source": [
    "# 25. Extract all alphabets from a string.\n",
    "\n",
    "import re\n",
    "\n",
    "def extract_alphabets(string):\n",
    "    x = re.findall(\"[a-zA-Z]+\",string)\n",
    "    join_list = \"\".join(x)\n",
    "    return join_list\n",
    "\n",
    "string= \"pwskills data science pro ba2024tch\"\n",
    "result= extract_alphabets(string)\n",
    "print(\"extract alphabets from string: \", result)\n",
    "\n"
   ]
  },
  {
   "cell_type": "code",
   "execution_count": 26,
   "id": "3139a7a4",
   "metadata": {},
   "outputs": [
    {
     "name": "stdout",
     "output_type": "stream",
     "text": [
      "Count of the uppercase in the above string:  15\n"
     ]
    }
   ],
   "source": [
    "# 26. Count the number of uppercase letters in a string.\n",
    "\n",
    "def upper_case(string):\n",
    "    count = 0\n",
    "    for char in string:\n",
    "        if char.isupper():\n",
    "            count +=1\n",
    "    return count\n",
    "\n",
    "string= \"PWSKILLS data SCIENCE 2024\"\n",
    "result = upper_case(string)\n",
    "print(\"Count of the uppercase in the above string: \", result)"
   ]
  },
  {
   "cell_type": "code",
   "execution_count": 27,
   "id": "2cd5dddd",
   "metadata": {},
   "outputs": [
    {
     "name": "stdout",
     "output_type": "stream",
     "text": [
      "Count of the lowercase in the above string:  12\n"
     ]
    }
   ],
   "source": [
    "# 27. Count the number of lowercase letters in a string.\n",
    "\n",
    "def lower_case(string):\n",
    "    count = 0\n",
    "    for char in string:\n",
    "        if char.islower():\n",
    "            count +=1\n",
    "    return count\n",
    "\n",
    "string= \"PWSKILLS data SCIENCE pro batch 2024\"\n",
    "result = lower_case(string)\n",
    "print(\"Count of the lowercase in the above string: \", result)"
   ]
  },
  {
   "cell_type": "code",
   "execution_count": 28,
   "id": "e7ca18ec",
   "metadata": {},
   "outputs": [
    {
     "name": "stdout",
     "output_type": "stream",
     "text": [
      "Swaped case of all character in string:  pWsKillS dAtA sCIENce pro\n"
     ]
    }
   ],
   "source": [
    "# 28. Swap the case of each character in a string.\n",
    "\n",
    "def swap_string(string):\n",
    "    x = string.swapcase()\n",
    "    return x\n",
    "\n",
    "string = \"PwSkILLs DaTa ScienCE PRO\"\n",
    "result = swap_string(string)\n",
    "print(\"Swaped case of all character in string: \", result)"
   ]
  },
  {
   "cell_type": "code",
   "execution_count": 29,
   "id": "bfaa5eba",
   "metadata": {},
   "outputs": [
    {
     "name": "stdout",
     "output_type": "stream",
     "text": [
      "Removed specific word from a string is: pwskills data science pro 2024\n"
     ]
    }
   ],
   "source": [
    "# 29. Remove a specific word from a string.\n",
    "\n",
    "def strip_word(string, word):\n",
    "    words = string.split()\n",
    "    updated_words = [w for w in words if w != word]\n",
    "    updated_string = \" \".join(updated_words)\n",
    "    return updated_string\n",
    "\n",
    "string = \"pwskills data science pro batch 2024\"\n",
    "word = \"batch\"\n",
    "result = strip_word(string, word)\n",
    "print(\"Removed specific word from a string is:\", result)\n"
   ]
  },
  {
   "cell_type": "code",
   "execution_count": 30,
   "id": "92ad76ed",
   "metadata": {},
   "outputs": [
    {
     "name": "stdout",
     "output_type": "stream",
     "text": [
      "Valid email address\n"
     ]
    }
   ],
   "source": [
    "# 30. Check if a string is a valid email address.\n",
    "import re\n",
    "def valid_email(email):\n",
    "    patter = r'^[a-zA-Z0-9._%+-]+@[a-zA-Z0-9.-]+\\.[a-zA-Z]{2,}$'\n",
    "    if re.match(patter,email):\n",
    "        return True\n",
    "    else:\n",
    "        return False\n",
    "    \n",
    "email = \"example123@gmail.com\"\n",
    "if valid_email(email):\n",
    "    print(\"Valid email address\")\n",
    "else:\n",
    "    print(\"Invalid email address\")"
   ]
  },
  {
   "cell_type": "code",
   "execution_count": 31,
   "id": "adcc6ade",
   "metadata": {},
   "outputs": [
    {
     "name": "stdout",
     "output_type": "stream",
     "text": [
      "Extracted username from email address string:  username123\n"
     ]
    }
   ],
   "source": [
    "# 31. Extract the username from an email address string.\n",
    "\n",
    "def extract_username(email):\n",
    "    x = email.split('@')\n",
    "    y = x[0]\n",
    "    return y\n",
    "\n",
    "email = \"username123@gmail.com\"\n",
    "result = extract_username(email)\n",
    "print(\"Extracted username from email address string: \", result)"
   ]
  },
  {
   "cell_type": "code",
   "execution_count": 32,
   "id": "48b48825",
   "metadata": {},
   "outputs": [
    {
     "name": "stdout",
     "output_type": "stream",
     "text": [
      "Extracted domain from email address string:  gmail.com\n"
     ]
    }
   ],
   "source": [
    "# 32. Extract the domain name from an email address string.\n",
    "\n",
    "def domain_name(email):\n",
    "    x = email.split('@')\n",
    "    y = x[1]\n",
    "    return y\n",
    "\n",
    "email = \"username123@gmail.com\"\n",
    "result = domain_name(email)\n",
    "print(\"Extracted domain from email address string: \", result)"
   ]
  },
  {
   "cell_type": "code",
   "execution_count": 33,
   "id": "91b5b63e",
   "metadata": {},
   "outputs": [
    {
     "name": "stdout",
     "output_type": "stream",
     "text": [
      "Replaced string with multiple spaces:  pwskills data science pro batch 2024\n"
     ]
    }
   ],
   "source": [
    "# 33. Replace multiple spaces in a string with a single space.\n",
    "\n",
    "def multiple_space(string):\n",
    "    x = \" \".join(string.split())\n",
    "    return x\n",
    "\n",
    "string = \"pwskills   data    science    pro   batch  2024\"\n",
    "result = multiple_space(string)\n",
    "print(\"Replaced string with multiple spaces: \",result)"
   ]
  },
  {
   "cell_type": "code",
   "execution_count": 34,
   "id": "0af670c5",
   "metadata": {},
   "outputs": [
    {
     "name": "stdout",
     "output_type": "stream",
     "text": [
      "valid url\n"
     ]
    }
   ],
   "source": [
    "# 34. Check if a string is a valid URL.\n",
    "import validators\n",
    "def valid_url(string):\n",
    "    return validators.url(string)\n",
    "\n",
    "string =\"https://stackoverflow.com/questions/7160737/how-to-validate-a-url-in-python-malformed-or-not\"\n",
    "if valid_url(string):\n",
    "    print(\"valid url\")\n",
    "else:\n",
    "    print(\"invalid url\")"
   ]
  },
  {
   "cell_type": "code",
   "execution_count": 35,
   "id": "69785552",
   "metadata": {},
   "outputs": [
    {
     "name": "stdout",
     "output_type": "stream",
     "text": [
      "Extracted protocol from the url is :  https\n"
     ]
    }
   ],
   "source": [
    "# 35. Extract the protocol (http or https) from a URL string.\n",
    "\n",
    "from urllib.parse import urlparse\n",
    "\n",
    "def extract_protocal(url):\n",
    "    x = urlparse(url)\n",
    "    return x.scheme\n",
    "\n",
    "url = \"https://stackoverflow.com/questions/9626535/get-protocol-host-name-from-url\"\n",
    "result = extract_protocal(url)\n",
    "print(\"Extracted protocol from the url is : \", result)"
   ]
  },
  {
   "cell_type": "code",
   "execution_count": 36,
   "id": "8602ebdc",
   "metadata": {},
   "outputs": [
    {
     "name": "stdout",
     "output_type": "stream",
     "text": [
      "Frequency of each character in the string:\n",
      "p: 2\n",
      "w: 1\n",
      "s: 7\n",
      "k: 3\n",
      "i: 4\n",
      "l: 6\n",
      " : 7\n",
      "d: 1\n",
      "a: 3\n",
      "t: 2\n",
      "c: 3\n",
      "e: 2\n",
      "n: 1\n",
      "r: 1\n",
      "o: 1\n",
      "b: 1\n",
      "h: 1\n",
      "2: 2\n",
      "0: 1\n",
      "4: 1\n"
     ]
    }
   ],
   "source": [
    "# 36. Find the frequency of each character in a string.\n",
    "\n",
    "def char_frequency(string):\n",
    "    frequency = {}\n",
    "    for char in string:\n",
    "        if char in frequency:\n",
    "            frequency[char] += 1\n",
    "        else:\n",
    "            frequency[char] = 1\n",
    "    return frequency\n",
    "\n",
    "string = \"pwskills data science pro batch skills skills 2024\"\n",
    "result = char_frequency(string)\n",
    "print(\"Frequency of each character in the string:\")\n",
    "for char, freq in result.items():\n",
    "    print(f\"{char}: {freq}\")\n"
   ]
  },
  {
   "cell_type": "code",
   "execution_count": 37,
   "id": "e1249105",
   "metadata": {},
   "outputs": [
    {
     "name": "stdout",
     "output_type": "stream",
     "text": [
      "Original string: pwskills, data'science'!,program!\n",
      "Punctuation removed string: pwskills datascienceprogram\n"
     ]
    }
   ],
   "source": [
    "# 37. Remove all punctuation from a string.\n",
    "\n",
    "\n",
    "import string\n",
    "\n",
    "def remove_punctuation(input_string):\n",
    "    \n",
    "    translator = str.maketrans('', '', string.punctuation)\n",
    "    \n",
    "    \n",
    "    cleaned_string = input_string.translate(translator)\n",
    "    \n",
    "    return cleaned_string\n",
    "\n",
    "string_to_clean = \"pwskills, data'science'!,program!\"\n",
    "result = remove_punctuation(string_to_clean)\n",
    "print(\"Original string:\", string_to_clean)\n",
    "print(\"Punctuation removed string:\", result)\n"
   ]
  },
  {
   "cell_type": "code",
   "execution_count": 38,
   "id": "9be15ac7",
   "metadata": {},
   "outputs": [
    {
     "name": "stdout",
     "output_type": "stream",
     "text": [
      "string contains only digits:  True\n"
     ]
    }
   ],
   "source": [
    "# 38. Check if a string contains only digits.\n",
    "\n",
    "def contain_digit(string):\n",
    "    x = string.isdigit()\n",
    "    return x\n",
    "string = \"123456\"\n",
    "result = contain_digit(string)\n",
    "print(\"string contains only digits: \", result)"
   ]
  },
  {
   "cell_type": "code",
   "execution_count": 39,
   "id": "da4869b7",
   "metadata": {},
   "outputs": [
    {
     "name": "stdout",
     "output_type": "stream",
     "text": [
      "string contains only digits:  True\n"
     ]
    }
   ],
   "source": [
    "# 39. Check if a string contains only alphabets.\n",
    "\n",
    "def contain_alpha(string):\n",
    "    x = string.isalpha()\n",
    "    return x\n",
    "string = \"pwskillsdatascience\"\n",
    "result = contain_alpha(string)\n",
    "print(\"string contains only digits: \", result)"
   ]
  },
  {
   "cell_type": "code",
   "execution_count": 40,
   "id": "d019d080",
   "metadata": {},
   "outputs": [
    {
     "name": "stdout",
     "output_type": "stream",
     "text": [
      "Original string: pwskills data ,science! ,program\n",
      "Converted into list:  ['p', 'w', 's', 'k', 'i', 'l', 'l', 's', ' ', 'd', 'a', 't', 'a', ' ', ',', 's', 'c', 'i', 'e', 'n', 'c', 'e', '!', ' ', ',', 'p', 'r', 'o', 'g', 'r', 'a', 'm']\n"
     ]
    }
   ],
   "source": [
    "# 40. Convert a string to a list of characters.\n",
    "\n",
    "def list_char(string):\n",
    "    x = list(string)\n",
    "    return x\n",
    "\n",
    "string = \"pwskills data ,science! ,program\"\n",
    "result = list_char(string)\n",
    "print(\"Original string:\",string)\n",
    "print(\"Converted into list: \",result)"
   ]
  },
  {
   "cell_type": "code",
   "execution_count": 41,
   "id": "88ef53b8",
   "metadata": {},
   "outputs": [
    {
     "name": "stdout",
     "output_type": "stream",
     "text": [
      "Two give strings are anagrams:  True\n"
     ]
    }
   ],
   "source": [
    "# 41. Check if two strings are anagrams.\n",
    "\n",
    "def are_anagrams(str1, str2):\n",
    "\n",
    "    str1 = str1.replace(\" \", \"\").lower()\n",
    "    str2 = str2.replace(\" \", \"\").lower()\n",
    "    return sorted(str1) == sorted(str2)\n",
    "\n",
    "string1 = \"listen\"\n",
    "string2 = \"silent\"\n",
    "\n",
    "result = are_anagrams(string1,string2)\n",
    "print(\"Two give strings are anagrams: \",result)"
   ]
  },
  {
   "cell_type": "code",
   "execution_count": 42,
   "id": "4cd85338",
   "metadata": {},
   "outputs": [
    {
     "name": "stdout",
     "output_type": "stream",
     "text": [
      "Plaintext: pwskills data science\n",
      "Ciphertext: szvnloov gdwd vflhqfh\n"
     ]
    }
   ],
   "source": [
    "def caesar_cipher_encrypt(plaintext, shift):\n",
    "    ciphertext = \"\"\n",
    "    for char in plaintext:\n",
    "        \n",
    "        if char.isalpha():\n",
    "            \n",
    "            shifted_char = chr((ord(char.lower()) - ord('a') + shift) % 26 + ord('a'))\n",
    "        \n",
    "            if char.isupper():\n",
    "                shifted_char = shifted_char.upper()\n",
    "            \n",
    "            ciphertext += shifted_char\n",
    "        else:\n",
    "            \n",
    "            ciphertext += char\n",
    "    return ciphertext\n",
    "\n",
    "# Example usage:\n",
    "plaintext = \"pwskills data science\"\n",
    "shift = 3\n",
    "ciphertext = caesar_cipher_encrypt(plaintext, shift)\n",
    "print(\"Plaintext:\", plaintext)\n",
    "print(\"Ciphertext:\", ciphertext)\n"
   ]
  },
  {
   "cell_type": "code",
   "execution_count": 43,
   "id": "5554ef0c",
   "metadata": {},
   "outputs": [
    {
     "name": "stdout",
     "output_type": "stream",
     "text": [
      "Ciphertext:  szvnloov gdwd vflhqfh\n",
      "Decrypted plaintext:  pwskills data science\n"
     ]
    }
   ],
   "source": [
    "# 43. Decode a Caesar cipher encoded string.\n",
    "\n",
    "def caesar_cipher_decrypt(ciphertext, shift):\n",
    "    plaintext = \"\"\n",
    "    for char in ciphertext:\n",
    "      \n",
    "        if char.isalpha():\n",
    "        \n",
    "            original_char = chr((ord(char.lower()) - ord('a') - shift) % 26 + ord('a'))\n",
    "            \n",
    "            if char.isupper():\n",
    "                original_char = original_char.upper()\n",
    "           \n",
    "            plaintext += original_char\n",
    "        else:\n",
    "          \n",
    "            plaintext += char\n",
    "    return plaintext\n",
    "\n",
    "\n",
    "ciphertext = \" szvnloov gdwd vflhqfh\"\n",
    "shift = 3\n",
    "plaintext = caesar_cipher_decrypt(ciphertext, shift)\n",
    "print(\"Ciphertext:\", ciphertext)\n",
    "print(\"Decrypted plaintext:\", plaintext)\n"
   ]
  },
  {
   "cell_type": "code",
   "execution_count": 44,
   "id": "7d0d952c",
   "metadata": {},
   "outputs": [
    {
     "name": "stdout",
     "output_type": "stream",
     "text": [
      "Frequency of each word in the string:\n",
      "pwskills: 1\n",
      "data: 1\n",
      "science: 1\n",
      "pro: 1\n",
      "batch: 1\n",
      "skills: 2\n",
      "2024: 1\n"
     ]
    }
   ],
   "source": [
    "# 44. Find the most frequent word in a string.\n",
    "\n",
    "def word_frequency(string):\n",
    "    frequency = {}\n",
    "    words = string.split()\n",
    "    for word in words:\n",
    "        if word in frequency:\n",
    "            frequency[word] += 1\n",
    "        else:\n",
    "            frequency[word] = 1\n",
    "    return frequency\n",
    "\n",
    "string = \"pwskills data science pro batch skills skills 2024\"\n",
    "result = word_frequency(string)\n",
    "print(\"Frequency of each word in the string:\")\n",
    "for word, freq in result.items():\n",
    "     print(f\"{word}: {freq}\")"
   ]
  },
  {
   "cell_type": "code",
   "execution_count": 45,
   "id": "be063c03",
   "metadata": {},
   "outputs": [
    {
     "name": "stdout",
     "output_type": "stream",
     "text": [
      "Unique words in the string: {'example', 'world', 'hello'}\n"
     ]
    }
   ],
   "source": [
    "# 45. Find all unique words in a string.\n",
    "\n",
    "def unique_words(string):\n",
    "    words = string.split()\n",
    "    unique_word_set = set(words)\n",
    "    return unique_word_set\n",
    "\n",
    "\n",
    "string = \"hello world hello world example\"\n",
    "unique_words_set = unique_words(string)\n",
    "print(\"Unique words in the string:\", unique_words_set)\n",
    "\n"
   ]
  },
  {
   "cell_type": "code",
   "execution_count": 46,
   "id": "a6d258b8",
   "metadata": {},
   "outputs": [
    {
     "name": "stdout",
     "output_type": "stream",
     "text": [
      "'pwskills' has 1 syllables.\n",
      "'datascience' has 4 syllables.\n"
     ]
    }
   ],
   "source": [
    "# 46. Count the number of syllables in a string.\n",
    "import re\n",
    "\n",
    "def count_syllables(string):\n",
    "    \n",
    "    vowel_groups = re.findall(r'[aeiouy]+', string, re.IGNORECASE)\n",
    "\n",
    "    return len(vowel_groups)\n",
    "\n",
    "\n",
    "string1 = \"pwskills\"\n",
    "string2  = \"datascience\"\n",
    "\n",
    "syllables1 = count_syllables(string1)\n",
    "syllables2 = count_syllables(string2)\n",
    "\n",
    "\n",
    "# Print the results\n",
    "print(f\"'{string1}' has {syllables1} syllables.\")\n",
    "print(f\"'{string2}' has {syllables2} syllables.\")"
   ]
  },
  {
   "cell_type": "code",
   "execution_count": 47,
   "id": "f3367c88",
   "metadata": {},
   "outputs": [
    {
     "name": "stdout",
     "output_type": "stream",
     "text": [
      "The string contains special characters.\n"
     ]
    }
   ],
   "source": [
    "# 47. Check if a string contains any special characters.\n",
    "\n",
    "def contains_special_characters(string):\n",
    "\n",
    "    special_characters = set(\"!@#$%^&*()-_+=[]{}|;:,.<>?~\")\n",
    "    for char in string:\n",
    "      \n",
    "        if char in special_characters:\n",
    "            return True\n",
    "    \n",
    " \n",
    "    return False\n",
    "\n",
    "\n",
    "string_with_special_characters = \"Hello! How are you?\"\n",
    "if contains_special_characters(string_with_special_characters):\n",
    "    print(\"The string contains special characters.\")\n",
    "else:\n",
    "    print(\"The string does not contain special characters.\")\n",
    "\n"
   ]
  },
  {
   "cell_type": "code",
   "execution_count": 48,
   "id": "e09a9907",
   "metadata": {},
   "outputs": [
    {
     "name": "stdout",
     "output_type": "stream",
     "text": [
      "String after removing the 2th word: pw skills science program.\n"
     ]
    }
   ],
   "source": [
    "# 48. Remove the nth word from a string.\n",
    "def remove_nth_word(string, n):\n",
    "    \n",
    "    words = string.split()\n",
    "    \n",
    "    \n",
    "    if 0 <= n < len(words):\n",
    "        \n",
    "        del words[n]\n",
    "        \n",
    "        result = ' '.join(words)\n",
    "        return result\n",
    "    else:\n",
    "        return \"Invalid index. The string does not have a word at index {}.\".format(n)\n",
    "\n",
    "string = \"pw skills data science program.\"\n",
    "n = 2\n",
    "result = remove_nth_word(string, n)\n",
    "print(\"String after removing the {}th word:\".format(n), result)\n"
   ]
  },
  {
   "cell_type": "code",
   "execution_count": 49,
   "id": "ab7677b9",
   "metadata": {},
   "outputs": [
    {
     "name": "stdout",
     "output_type": "stream",
     "text": [
      "String after inserting 'science' at position 2: pwskills data science program\n"
     ]
    }
   ],
   "source": [
    "# 49. Insert a word at the nth position in a string.\n",
    "def insert_word_at_nth_position(string, word, n):\n",
    "   \n",
    "    words = string.split()\n",
    "    \n",
    "  \n",
    "    if 0 <= n <= len(words):\n",
    "    \n",
    "        words.insert(n, word)\n",
    "       \n",
    "        result = ' '.join(words)\n",
    "        return result\n",
    "    else:\n",
    "        return \"Invalid index. The string does not have a position at index {}.\".format(n)\n",
    "\n",
    "\n",
    "string = \"pwskills data program\"\n",
    "word_to_insert = \"science\"\n",
    "position_to_insert = 2\n",
    "result = insert_word_at_nth_position(string, word_to_insert, position_to_insert)\n",
    "print(\"String after inserting '{}' at position {}:\".format(word_to_insert, position_to_insert), result)\n"
   ]
  },
  {
   "cell_type": "code",
   "execution_count": 50,
   "id": "3a83b698",
   "metadata": {},
   "outputs": [
    {
     "name": "stdout",
     "output_type": "stream",
     "text": [
      "CSV string converted to a list of lists:\n",
      "['1', 'pwskills', '2024']\n",
      "['2', 'sudhanshu sir', 'krishnaik']\n",
      "['3', 'data', 'science']\n"
     ]
    }
   ],
   "source": [
    "# 50. Convert a CSV string to a list of lists.\n",
    "\n",
    "def csv_string_to_list(csv_string):\n",
    "    lines = csv_string.split('\\n')\n",
    "    result = []\n",
    "    for line in lines:\n",
    "       \n",
    "        values = line.split(',')\n",
    "        \n",
    "       \n",
    "        result.append(values)\n",
    "    \n",
    "    return result\n",
    "\n",
    "# Example usage:\n",
    "csv_string = \"1,pwskills,2024\\n2,sudhanshu sir,krishnaik\\n3,data,science\"\n",
    "result = csv_string_to_list(csv_string)\n",
    "print(\"CSV string converted to a list of lists:\")\n",
    "for row in result:\n",
    "    print(row)\n"
   ]
  },
  {
   "cell_type": "code",
   "execution_count": 51,
   "id": "0b637d55",
   "metadata": {},
   "outputs": [
    {
     "name": "stdout",
     "output_type": "stream",
     "text": [
      "[1, 2, 3, 4, 5, 6, 7, 8, 9]\n"
     ]
    }
   ],
   "source": [
    "# 1. Create a list with integers from 1 to 10.\n",
    "integer = [i for i in range(1,10)]\n",
    "print(integer)"
   ]
  },
  {
   "cell_type": "code",
   "execution_count": 52,
   "id": "774fdb8d",
   "metadata": {},
   "outputs": [
    {
     "name": "stdout",
     "output_type": "stream",
     "text": [
      "length of given list is:  8\n"
     ]
    }
   ],
   "source": [
    "# 2. Find the length of a list without using the `len()` function.\n",
    "\n",
    "def len_list(list2):\n",
    "    count = 0\n",
    "    for i in list2:\n",
    "        count += 1\n",
    "    return count\n",
    "\n",
    "list2=[\"pwskills\",1,2,3,4,5,6,7]\n",
    "result = len_list(list2)\n",
    "print(\"length of given list is: \", result)"
   ]
  },
  {
   "cell_type": "code",
   "execution_count": 53,
   "id": "822b930e",
   "metadata": {},
   "outputs": [
    {
     "name": "stdout",
     "output_type": "stream",
     "text": [
      "List after appending element to the end: ['pwskills', 1, 2, 3, 4, 5, 6, 7, 'datascience']\n"
     ]
    }
   ],
   "source": [
    "# 3. Append an element to the end of a list.\n",
    "def append_element(list3, element):\n",
    "    list3.append(element)\n",
    "    return list3\n",
    "\n",
    "list3 = [\"pwskills\", 1, 2, 3, 4, 5, 6, 7]\n",
    "element = \"datascience\"\n",
    "result = append_element(list3, element)\n",
    "print(\"List after appending element to the end:\", result)"
   ]
  },
  {
   "cell_type": "code",
   "execution_count": 54,
   "id": "05c34ecc",
   "metadata": {},
   "outputs": [
    {
     "name": "stdout",
     "output_type": "stream",
     "text": [
      "Inserted element at a specific index list is:  ['pwskills', 1, 2, 3, 'pro batch', 4, 5, 6, 7, 'datascience']\n"
     ]
    }
   ],
   "source": [
    "# 4. Insert an element at a specific index in a list.\n",
    "\n",
    "def insert_element(element,index,list4):\n",
    "    list4.insert(index,element)\n",
    "    return list4\n",
    "list4 = ['pwskills', 1, 2, 3, 4, 5, 6, 7, 'datascience']\n",
    "index = 4\n",
    "element=\"pro batch\"\n",
    "result = insert_element(element,index,list4)\n",
    "print(\"Inserted element at a specific index list is: \",result)"
   ]
  },
  {
   "cell_type": "code",
   "execution_count": 55,
   "id": "63a6f394",
   "metadata": {},
   "outputs": [
    {
     "name": "stdout",
     "output_type": "stream",
     "text": [
      "Removed element from a list by its value:  ['pwskills', 1, 2, 3, 4, 5, 6, 7, 'datascience']\n"
     ]
    }
   ],
   "source": [
    "# 5. Remove an element from a list by its value.\n",
    "\n",
    "def remove_element(element,list5):\n",
    "    list5.remove(element)\n",
    "    return list5\n",
    "\n",
    "list5 = ['pwskills', 1, 2, 3, 'pro batch', 4, 5, 6, 7, 'datascience']\n",
    "element = \"pro batch\"\n",
    "result = remove_element(element,list5)\n",
    "print(\"Removed element from a list by its value: \",result)"
   ]
  },
  {
   "cell_type": "code",
   "execution_count": 56,
   "id": "8a00cdfa",
   "metadata": {},
   "outputs": [
    {
     "name": "stdout",
     "output_type": "stream",
     "text": [
      "List after removing element at given index:  ['pwskills', 1, 2, 3, 4, 5, 6, 7]\n"
     ]
    }
   ],
   "source": [
    "# 6. Remove an element from a list by its index.\n",
    "\n",
    "def remove_element(index, list6):\n",
    "    if index < len(list6):\n",
    "        return list6[:index] + list6[index+1:]\n",
    "    else:\n",
    "        return list6\n",
    "\n",
    "list6 = ['pwskills', 1, 2, 3, 4, 5, 6, 7, 'datascience']\n",
    "index = 8\n",
    "result = remove_element(index, list6)\n",
    "print(\"List after removing element at given index: \", result)\n"
   ]
  },
  {
   "cell_type": "code",
   "execution_count": 57,
   "id": "305b3ff3",
   "metadata": {},
   "outputs": [
    {
     "name": "stdout",
     "output_type": "stream",
     "text": [
      "Element is present in the list\n"
     ]
    }
   ],
   "source": [
    "# 7. Check if an element exists in a list.\n",
    "\n",
    "def exist_element(element,list7):\n",
    "    if element in list7:\n",
    "        print(\"Element is present in the list\")\n",
    "    else:\n",
    "        print(\"Element is not present in the list\")\n",
    "        \n",
    "list7=['pwskills', 1, 2, 3, 4, 5, 6, 7]\n",
    "element = 2\n",
    "result=exist_element(element,list7)\n"
   ]
  },
  {
   "cell_type": "code",
   "execution_count": 58,
   "id": "af04c68a",
   "metadata": {},
   "outputs": [
    {
     "name": "stdout",
     "output_type": "stream",
     "text": [
      "Index of 30 : 3\n"
     ]
    }
   ],
   "source": [
    "# 8. Find the index of the first occurrence of an element in a list.\n",
    "\n",
    "my_list = [\"pwskills\",10, 20, 30, 40, 50]\n",
    "element_to_find = 30\n",
    "\n",
    "index = my_list.index(element_to_find)\n",
    "print(\"Index of\", element_to_find, \":\", index)\n"
   ]
  },
  {
   "cell_type": "code",
   "execution_count": 59,
   "id": "1e2b522b",
   "metadata": {},
   "outputs": [
    {
     "name": "stdout",
     "output_type": "stream",
     "text": [
      "The element 30 occurs 3 times in the list.\n"
     ]
    }
   ],
   "source": [
    "# 9. Count the occurrences of an element in a list.\n",
    "\n",
    "my_list = [\"pwskills\",10, 20, 30, 40, 50, 30, 30]\n",
    "\n",
    "element_to_count = 30\n",
    "count = my_list.count(element_to_count)\n",
    "print(f\"The element {element_to_count} occurs {count} times in the list.\")"
   ]
  },
  {
   "cell_type": "code",
   "execution_count": 60,
   "id": "a469630c",
   "metadata": {},
   "outputs": [
    {
     "name": "stdout",
     "output_type": "stream",
     "text": [
      "Reverse order list:  [30, 30, 50, 40, 30, 20, 10, 'pwskills']\n"
     ]
    }
   ],
   "source": [
    "# 10. Reverse the order of elements in a list.\n",
    "\n",
    "my_list = [\"pwskills\",10, 20, 30, 40, 50, 30, 30]\n",
    "my_list.reverse()\n",
    "print(\"Reverse order list: \",my_list)\n"
   ]
  },
  {
   "cell_type": "code",
   "execution_count": 61,
   "id": "6a756d42",
   "metadata": {},
   "outputs": [
    {
     "name": "stdout",
     "output_type": "stream",
     "text": [
      "Sorted list in ascending order:  [5, 10, 20, 50, 100, 130, 1000]\n"
     ]
    }
   ],
   "source": [
    "# 11. Sort a list in ascending order.\n",
    "\n",
    "my_list = [20, 1000, 100, 10, 50, 130, 5]\n",
    "my_list.sort()\n",
    "print(\"Sorted list in ascending order: \",my_list)"
   ]
  },
  {
   "cell_type": "code",
   "execution_count": 62,
   "id": "c49bb38b",
   "metadata": {},
   "outputs": [
    {
     "name": "stdout",
     "output_type": "stream",
     "text": [
      "Sorted list in ascending order:  [1000, 130, 100, 50, 20, 10, 5]\n"
     ]
    }
   ],
   "source": [
    "# 12. Sort a list in descending order.\n",
    "\n",
    "my_list = [20, 1000, 100, 10, 50, 130, 5]\n",
    "my_list.sort(reverse=True)\n",
    "print(\"Sorted list in ascending order: \",my_list)"
   ]
  },
  {
   "cell_type": "code",
   "execution_count": 63,
   "id": "7027ba0f",
   "metadata": {},
   "outputs": [
    {
     "name": "stdout",
     "output_type": "stream",
     "text": [
      "List of even numbers from 1 to 20:  [2, 4, 6, 8, 10, 12, 14, 16, 18, 20]\n"
     ]
    }
   ],
   "source": [
    "# 13. Create a list of even numbers from 1 to 20.\n",
    "\n",
    "my_list = [x for x in range(1,21) if x%2==0]\n",
    "\n",
    "print(\"List of even numbers from 1 to 20: \",my_list)"
   ]
  },
  {
   "cell_type": "code",
   "execution_count": 64,
   "id": "4b3425b9",
   "metadata": {},
   "outputs": [
    {
     "name": "stdout",
     "output_type": "stream",
     "text": [
      "List of odd numbers from 1 to 20:  [1, 3, 5, 7, 9, 11, 13, 15, 17, 19]\n"
     ]
    }
   ],
   "source": [
    "# 14. Create a list of odd numbers from 1 to 20.\n",
    "\n",
    "my_list = [x for x in range(1,21) if x%2!=0]\n",
    "\n",
    "print(\"List of odd numbers from 1 to 20: \",my_list)"
   ]
  },
  {
   "cell_type": "code",
   "execution_count": 65,
   "id": "f5d2349a",
   "metadata": {},
   "outputs": [
    {
     "name": "stdout",
     "output_type": "stream",
     "text": [
      "Sum of all elements in a list:  100\n"
     ]
    }
   ],
   "source": [
    "# 15. Find the sum of all elements in a list.\n",
    "\n",
    "my_list =  [1, 3, 5, 7, 9, 11, 13, 15, 17, 19]\n",
    "x = sum(my_list)\n",
    "print(\"Sum of all elements in a list: \", x)"
   ]
  },
  {
   "cell_type": "code",
   "execution_count": 66,
   "id": "94d3a7a4",
   "metadata": {},
   "outputs": [
    {
     "name": "stdout",
     "output_type": "stream",
     "text": [
      "Maximum value in a list 19\n"
     ]
    }
   ],
   "source": [
    "# 16. Find the maximum value in a list.\n",
    "\n",
    "my_list = [1, 3, 5, 7, 9, 11, 13, 15, 17, 19]\n",
    "x = max(my_list)\n",
    "print(\"Maximum value in a list\", x)"
   ]
  },
  {
   "cell_type": "code",
   "execution_count": 67,
   "id": "594b50a4",
   "metadata": {},
   "outputs": [
    {
     "name": "stdout",
     "output_type": "stream",
     "text": [
      "Minimum value in a list 1\n"
     ]
    }
   ],
   "source": [
    "# 17. Find the minimum value in a list.\n",
    "\n",
    "my_list = [1, 3, 5, 7, 9, 11, 13, 15, 17, 19]\n",
    "x = min(my_list)\n",
    "print(\"Minimum value in a list\", x)"
   ]
  },
  {
   "cell_type": "code",
   "execution_count": 68,
   "id": "8f52b7b9",
   "metadata": {},
   "outputs": [
    {
     "name": "stdout",
     "output_type": "stream",
     "text": [
      "List of squares of numbers from 1 to 10:  [1, 4, 9, 16, 25, 36, 49, 64, 81, 100]\n"
     ]
    }
   ],
   "source": [
    "# 18. Create a list of squares of numbers from 1 to 10.\n",
    "\n",
    "my_list = [x**2 for x in range(1,11) ]\n",
    "\n",
    "print(\"List of squares of numbers from 1 to 10: \",my_list)"
   ]
  },
  {
   "cell_type": "code",
   "execution_count": 69,
   "id": "8efdb9d1",
   "metadata": {},
   "outputs": [
    {
     "name": "stdout",
     "output_type": "stream",
     "text": [
      "Random integers from 1 to 100:  [38, 35, 16, 80, 99, 59, 59, 71, 56, 29]\n"
     ]
    }
   ],
   "source": [
    "# 19. Create a list of random numbers.\n",
    "\n",
    "import random\n",
    "\n",
    "my_list = [random.randint(1,100) for i in range(10)]\n",
    "\n",
    "print(\"Random integers from 1 to 100: \",my_list)"
   ]
  },
  {
   "cell_type": "code",
   "execution_count": 70,
   "id": "5d75ea24",
   "metadata": {},
   "outputs": [
    {
     "name": "stdout",
     "output_type": "stream",
     "text": [
      "Removed duplicate element from a list:  [1, 2, 3, 4, 5]\n"
     ]
    }
   ],
   "source": [
    "# 20. Remove duplicates from a list.\n",
    "\n",
    "my_list = [1,2,2,3,3,3,4,4,4,4,4,5,5,5,5,5]\n",
    "removed_list = list(set(my_list))\n",
    "print(\"Removed duplicate element from a list: \",removed_list)"
   ]
  },
  {
   "cell_type": "code",
   "execution_count": 71,
   "id": "ea01ea0d",
   "metadata": {},
   "outputs": [
    {
     "name": "stdout",
     "output_type": "stream",
     "text": [
      "Common elements between two list : [1, 2, 3, 4, 5]\n"
     ]
    }
   ],
   "source": [
    "# 21. Find the common elements between two lists.\n",
    "\n",
    "list1= [1, 2, 3, 4, 5, 6, 7, 8, 9, 10]\n",
    "list2 = [1, 2, 3, 4, 5]\n",
    "new_element = set(list1).intersection(set(list2))\n",
    "print(\"Common elements between two list :\", list(new_element))"
   ]
  },
  {
   "cell_type": "code",
   "execution_count": 72,
   "id": "331b6a46",
   "metadata": {},
   "outputs": [
    {
     "name": "stdout",
     "output_type": "stream",
     "text": [
      "Difference between two lists : {6, 7, 8, 9, 10}\n"
     ]
    }
   ],
   "source": [
    "# 22. Find the difference between two lists.\n",
    "\n",
    "list1= [1, 2, 3, 4, 5, 6, 7, 8, 9, 10]\n",
    "list2 = [1, 2, 3, 4, 5]\n",
    "list_difference = set(list1).difference(set(list2))\n",
    "print(\"Difference between two lists :\",list_difference)"
   ]
  },
  {
   "cell_type": "code",
   "execution_count": 73,
   "id": "98309356",
   "metadata": {},
   "outputs": [
    {
     "name": "stdout",
     "output_type": "stream",
     "text": [
      "Merged two list:  [1, 2, 3, 4, 5, 6, 7, 8, 9, 10, 'python', 1, 2, 3, 4, 5, 'datascience']\n"
     ]
    }
   ],
   "source": [
    "# 23. Merge two lists.\n",
    "\n",
    "list1= [1, 2, 3, 4, 5, 6, 7, 8, 9, 10,\"python\"]\n",
    "list2 = [1, 2, 3, 4, 5,\"datascience\"]\n",
    "list1.extend(list2)\n",
    "merged_list = list1\n",
    "print(\"Merged two list: \",merged_list)\n"
   ]
  },
  {
   "cell_type": "code",
   "execution_count": 74,
   "id": "ffd29109",
   "metadata": {},
   "outputs": [
    {
     "name": "stdout",
     "output_type": "stream",
     "text": [
      "Multipliation of all elements in a list with 2:  [2, 4, 6, 8, 10]\n"
     ]
    }
   ],
   "source": [
    "# 24. Multiply all elements in a list by 2.\n",
    "\n",
    "list2 = [1, 2, 3, 4, 5,]\n",
    "new_list = [i*2 for i in list2 ]\n",
    "print(\"Multipliation of all elements in a list with 2: \",new_list)"
   ]
  },
  {
   "cell_type": "code",
   "execution_count": 75,
   "id": "01b54450",
   "metadata": {},
   "outputs": [
    {
     "name": "stdout",
     "output_type": "stream",
     "text": [
      "Filtered even numbers from the list:  [2, 4, 6, 8, 10]\n"
     ]
    }
   ],
   "source": [
    "# 25. Filter out all even numbers from a list.\n",
    "\n",
    "list1= [1, 2, 3, 4, 5, 6, 7, 8, 9, 10]\n",
    "new_list = [i for i in list1 if i%2==0]\n",
    "print(\"Filtered even numbers from the list: \",new_list)"
   ]
  },
  {
   "cell_type": "code",
   "execution_count": 76,
   "id": "29060c7e",
   "metadata": {},
   "outputs": [
    {
     "name": "stdout",
     "output_type": "stream",
     "text": [
      "Converted list of strings to a list of integers : [1, 2, 3, 4, 5, 6, 7, 8, 9, 10]\n"
     ]
    }
   ],
   "source": [
    "# 26. Convert a list of strings to a list of integers.\n",
    "\n",
    "list1= ['1', '2', '3', '4', '5', '6', '7', '8', '9', '10']\n",
    "new_list = [int(x) for x in list1]\n",
    "print(\"Converted list of strings to a list of integers :\",new_list)"
   ]
  },
  {
   "cell_type": "code",
   "execution_count": 77,
   "id": "ce52f13d",
   "metadata": {},
   "outputs": [
    {
     "name": "stdout",
     "output_type": "stream",
     "text": [
      "Converted list of integers to a list of strings : ['1', '2', '3', '4', '5', '6', '7', '8', '9', '10']\n"
     ]
    }
   ],
   "source": [
    "# 27. Convert a list of integers to a list of strings.\n",
    "\n",
    "list1= [1, 2, 3, 4, 5, 6, 7, 8, 9, 10]\n",
    "new_list = [str(x) for x in list1]\n",
    "print(\"Converted list of integers to a list of strings :\",new_list)"
   ]
  },
  {
   "cell_type": "code",
   "execution_count": 78,
   "id": "f7d0eda0",
   "metadata": {},
   "outputs": [
    {
     "name": "stdout",
     "output_type": "stream",
     "text": [
      "[1, 2, 3, 4, 5, 6, 7]\n"
     ]
    }
   ],
   "source": [
    "# 28. Flatten a nested list.\n",
    "\n",
    "my_list = [[1], [2, 3], [4, 5, 6, 7]]\n",
    "\n",
    "flt_list= []\n",
    "for sub_list in my_list:\n",
    "    for num in sub_list:\n",
    "        flt_list.append(num)\n",
    "        \n",
    "        \n",
    "print(flt_list)"
   ]
  },
  {
   "cell_type": "code",
   "execution_count": 79,
   "id": "bdd623e8",
   "metadata": {},
   "outputs": [
    {
     "name": "stdout",
     "output_type": "stream",
     "text": [
      "[0, 1, 1, 2, 3, 5, 8, 13, 21, 34]\n"
     ]
    }
   ],
   "source": [
    "# 29. Create a list of the first 10 Fibonacci numbers.\n",
    "\n",
    "a, b = 0, 1\n",
    "fibonacci_list = [a, b]\n",
    "\n",
    "for _ in range(8):  \n",
    "    a, b = b, a + b\n",
    "    fibonacci_list.append(b)\n",
    "\n",
    "print(fibonacci_list)\n"
   ]
  },
  {
   "cell_type": "code",
   "execution_count": 80,
   "id": "65cf01f8",
   "metadata": {},
   "outputs": [
    {
     "name": "stdout",
     "output_type": "stream",
     "text": [
      "List is sorted\n"
     ]
    }
   ],
   "source": [
    "# 30. Check if a list is sorted.\n",
    "\n",
    "list1 = [0, 1, 1, 2, 3, 5, 8, 13, 21, 34]\n",
    "if list1==sorted(list1):\n",
    "    print(\"List is sorted\")\n",
    "else:\n",
    "    print(\"List is not sorted\")\n"
   ]
  },
  {
   "cell_type": "code",
   "execution_count": 81,
   "id": "8e8af232",
   "metadata": {},
   "outputs": [
    {
     "name": "stdout",
     "output_type": "stream",
     "text": [
      "Rotaed list to the left by n position:  [3, 4, 5, 1, 2]\n"
     ]
    }
   ],
   "source": [
    "# 31. Rotate a list to the left by `n` positions.\n",
    "\n",
    "def rotate_left(lst, n):\n",
    "    n %= len(lst)\n",
    "    for _ in range(n):\n",
    "        lst.append(lst.pop(0))\n",
    "    return lst\n",
    "\n",
    "\n",
    "my_list = [1, 2, 3, 4, 5]\n",
    "rotation_amount = 2\n",
    "rotated_list = rotate_left(my_list, rotation_amount)\n",
    "print(\"Rotaed list to the left by n position: \",rotated_list)  \n"
   ]
  },
  {
   "cell_type": "code",
   "execution_count": 82,
   "id": "a259d2a8",
   "metadata": {},
   "outputs": [
    {
     "name": "stdout",
     "output_type": "stream",
     "text": [
      "Rotaed list to the left by n position:  [4, 5, 1, 2, 3]\n"
     ]
    }
   ],
   "source": [
    "# 32. Rotate a list to the right by `n` positions.\n",
    "\n",
    "def rotate_right(lst, n):\n",
    "    n %= len(lst)\n",
    "    for _ in range(n):\n",
    "        lst.insert(0, lst.pop())\n",
    "    return lst\n",
    "\n",
    "\n",
    "my_list = [1, 2, 3, 4, 5]\n",
    "rotation_amount = 2\n",
    "rotated_list = rotate_right(my_list, rotation_amount)\n",
    "print(\"Rotaed list to the left by n position: \",rotated_list)  "
   ]
  },
  {
   "cell_type": "code",
   "execution_count": 83,
   "id": "106c2aa5",
   "metadata": {},
   "outputs": [
    {
     "name": "stdout",
     "output_type": "stream",
     "text": [
      "[2, 3, 5, 7, 11, 13, 17, 19, 23, 29, 31, 37, 41, 43, 47]\n"
     ]
    }
   ],
   "source": [
    "# 33. Create a list of prime numbers up to 50.\n",
    "\n",
    "def prime_number(num):\n",
    "    if num<=1:\n",
    "        return False\n",
    "    elif num<= 3:\n",
    "        return True\n",
    "    elif num% 2==0 or num% 3 == 0:\n",
    "        return False\n",
    "    i = 5\n",
    "    while i*i <= num:\n",
    "        if num % i == 0 or num % ( i + 2 ) == 0:\n",
    "            return False\n",
    "        i += 6\n",
    "    return True\n",
    "\n",
    "prime_numbers = [num for num in range(2,51) if prime_number(num)]\n",
    "print(prime_numbers)"
   ]
  },
  {
   "cell_type": "code",
   "execution_count": 84,
   "id": "1b718865",
   "metadata": {},
   "outputs": [
    {
     "name": "stdout",
     "output_type": "stream",
     "text": [
      "splited a list into chunks of size n: [[1, 2, 3], [4, 5, 6], [7, 8, 9], [10]]\n"
     ]
    }
   ],
   "source": [
    "# 34. Split a list into chunks of size `n`.\n",
    "\n",
    "def split_into_chunks(lst, n):\n",
    "    for i in range(0, len(lst), n):\n",
    "        yield lst[i:i + n]\n",
    "\n",
    "\n",
    "my_list = [1, 2, 3, 4, 5, 6, 7, 8, 9, 10]\n",
    "chunk_size = 3\n",
    "chunks = list(split_into_chunks(my_list, chunk_size))\n",
    "print(\"splited a list into chunks of size n:\" ,chunks) \n",
    "\n"
   ]
  },
  {
   "cell_type": "code",
   "execution_count": 85,
   "id": "57135ce3",
   "metadata": {},
   "outputs": [
    {
     "name": "stdout",
     "output_type": "stream",
     "text": [
      "second largest number in the list is:  15\n"
     ]
    }
   ],
   "source": [
    "# 35. Find the second largest number in a list.\n",
    "\n",
    "def second_largest(lst):\n",
    "    sorted_list = sorted(lst, reverse=True)\n",
    "    if len(sorted_list) < 2:\n",
    "        return None  \n",
    "    return sorted_list[1]\n",
    "\n",
    "\n",
    "my_list = [10, 5, 8, 20, 15]\n",
    "second_largest_num = second_largest(my_list)\n",
    "print(\"second largest number in the list is: \",second_largest_num)  \n"
   ]
  },
  {
   "cell_type": "code",
   "execution_count": 86,
   "id": "419e0c9c",
   "metadata": {},
   "outputs": [
    {
     "name": "stdout",
     "output_type": "stream",
     "text": [
      "Replaced every element in a list with its square:  [1, 4, 9, 16, 25]\n"
     ]
    }
   ],
   "source": [
    "# 36. Replace every element in a list with its square.\n",
    "\n",
    "def square_list(element):\n",
    "    my_list = [x**2 for x in element]\n",
    "    return my_list\n",
    "\n",
    "element = [1,2,3,4,5]\n",
    "result = square_list(element)\n",
    "print(\"Replaced every element in a list with its square: \",result)"
   ]
  },
  {
   "cell_type": "code",
   "execution_count": 87,
   "id": "23a2a49d",
   "metadata": {},
   "outputs": [
    {
     "name": "stdout",
     "output_type": "stream",
     "text": [
      "Converted list to a dictionary :  {'a': 0, 'b': 1, 'c': 2, 'd': 3}\n"
     ]
    }
   ],
   "source": [
    "# 37. Convert a list to a dictionary where list elements become keys and their indices become values.\n",
    "\n",
    "def list_to_dict(lst):\n",
    "    return {value: index for index, value in enumerate(lst)}\n",
    "\n",
    "my_list = ['a', 'b', 'c', 'd']\n",
    "result_dict = list_to_dict(my_list)\n",
    "print(\"Converted list to a dictionary : \",result_dict)\n",
    "\n",
    "    "
   ]
  },
  {
   "cell_type": "code",
   "execution_count": 88,
   "id": "4f194e68",
   "metadata": {},
   "outputs": [
    {
     "name": "stdout",
     "output_type": "stream",
     "text": [
      "Randomly shuffled list is: [11, 19, 3, 17, 41, 31, 5, 13, 7, 2, 29, 43, 47, 23, 37]\n"
     ]
    }
   ],
   "source": [
    "# 38. Shuffle the elements of a list randomly.\n",
    "\n",
    "import random\n",
    "my_list =[2, 3, 5, 7, 11, 13, 17, 19, 23, 29, 31, 37, 41, 43, 47]\n",
    "random.shuffle(my_list)\n",
    "print(\"Randomly shuffled list is:\",my_list)"
   ]
  },
  {
   "cell_type": "code",
   "execution_count": 89,
   "id": "2a12faed",
   "metadata": {},
   "outputs": [
    {
     "name": "stdout",
     "output_type": "stream",
     "text": [
      "[1, 1, 2, 6, 24, 120, 720, 5040, 40320, 362880]\n"
     ]
    }
   ],
   "source": [
    "# 39. Create a list of the first 10 factorial numbers.\n",
    "\n",
    "def factorial(n):\n",
    "    if n == 0:\n",
    "        return 1\n",
    "    else:\n",
    "        return n * factorial(n-1)\n",
    "\n",
    "factorial_numbers = [factorial(i) for i in range(10)]\n",
    "\n",
    "print(factorial_numbers)\n"
   ]
  },
  {
   "cell_type": "code",
   "execution_count": 90,
   "id": "a5b8cfbb",
   "metadata": {},
   "outputs": [
    {
     "name": "stdout",
     "output_type": "stream",
     "text": [
      "The lists have at least one common element.\n"
     ]
    }
   ],
   "source": [
    "# 40. Check if two lists have at least one element in common.\n",
    "def common_element(list1,list2):\n",
    "    for item in list1:\n",
    "        if item in list2:\n",
    "            return True\n",
    "    return False\n",
    "list1 = [1, 2, 3, 4, 5, 6]\n",
    "list2 = [4, 5, 6, 7, 8, 9]\n",
    "\n",
    "if common_element(list1, list2):\n",
    "    print(\"The lists have at least one common element.\")\n",
    "else:\n",
    "    print(\"The lists do not have any common elements.\")"
   ]
  },
  {
   "cell_type": "code",
   "execution_count": 91,
   "id": "efa1ebbb",
   "metadata": {},
   "outputs": [
    {
     "name": "stdout",
     "output_type": "stream",
     "text": [
      "Emplty list:  []\n"
     ]
    }
   ],
   "source": [
    "# 41. Remove all elements from a list.\n",
    "\n",
    "my_list = [1, 2, 3, 4, 5, 6]\n",
    "my_list.clear()\n",
    "print(\"Emplty list: \",my_list)"
   ]
  },
  {
   "cell_type": "code",
   "execution_count": 92,
   "id": "f1e9b83d",
   "metadata": {},
   "outputs": [
    {
     "name": "stdout",
     "output_type": "stream",
     "text": [
      "List after replacing negative numbers with 0: [100, 0, 230, 0, 301, 0]\n"
     ]
    }
   ],
   "source": [
    "# 42. Replace negative numbers in a list with 0.\n",
    "\n",
    "\n",
    "my_list = [100, -70, 230, -125, 301, -250]\n",
    "\n",
    "for i in range(len(my_list)):\n",
    "    if my_list[i] < 0:\n",
    "        my_list[i] = 0\n",
    "print(\"List after replacing negative numbers with 0:\", my_list)"
   ]
  },
  {
   "cell_type": "code",
   "execution_count": 93,
   "id": "0066d02b",
   "metadata": {},
   "outputs": [
    {
     "name": "stdout",
     "output_type": "stream",
     "text": [
      "string into a list of words:  ['pwskills', 'data', 'science', 'pro', 'batch']\n"
     ]
    }
   ],
   "source": [
    "# 43. Convert a string into a list of words.\n",
    "\n",
    "string = \"pwskills data science pro batch\"\n",
    "new_string = string.split()\n",
    "print(\"string into a list of words: \",new_string)"
   ]
  },
  {
   "cell_type": "code",
   "execution_count": 94,
   "id": "b47ccf95",
   "metadata": {},
   "outputs": [
    {
     "name": "stdout",
     "output_type": "stream",
     "text": [
      "list of words into a string:  pwskills data science pro batch\n"
     ]
    }
   ],
   "source": [
    "# 44. Convert a list of words into a string.\n",
    "list_of_words = ['pwskills', 'data', 'science', 'pro', 'batch']\n",
    "string = \" \".join(list_of_words)\n",
    "print(\"list of words into a string: \",string)"
   ]
  },
  {
   "cell_type": "code",
   "execution_count": 95,
   "id": "92372760",
   "metadata": {},
   "outputs": [
    {
     "name": "stdout",
     "output_type": "stream",
     "text": [
      "list of the first n powers of 2:  [1, 2, 4, 8, 16, 32]\n"
     ]
    }
   ],
   "source": [
    "# 45. Create a list of the first `n` powers of 2.\n",
    "\n",
    "n = 6\n",
    "list_of_twopower = [2 **i for i in range(n)]\n",
    "print(\"list of the first n powers of 2: \",list_of_twopower)"
   ]
  },
  {
   "cell_type": "code",
   "execution_count": 96,
   "id": "380cdf62",
   "metadata": {},
   "outputs": [
    {
     "name": "stdout",
     "output_type": "stream",
     "text": [
      "Longest string: datascience\n"
     ]
    }
   ],
   "source": [
    "# 46. Find the longest string in a list of strings.\n",
    "def longest_string(lst):\n",
    "    if not lst:\n",
    "        return None\n",
    "    max_length = 0\n",
    "    for string in lst:\n",
    "        if len(string)> max_length:\n",
    "            max_length = len(string)\n",
    "            longest_str = string\n",
    "    return longest_str\n",
    "\n",
    "my_list = [\"pwskills\",\"datascience\",\"pro\",\"batch\",\"2024\"]\n",
    "longest = longest_string(my_list)\n",
    "print(\"Longest string:\", longest)\n"
   ]
  },
  {
   "cell_type": "code",
   "execution_count": 97,
   "id": "b23005db",
   "metadata": {},
   "outputs": [
    {
     "name": "stdout",
     "output_type": "stream",
     "text": [
      "Shortest string: pro\n"
     ]
    }
   ],
   "source": [
    "# 47. Find the shortest string in a list of strings.\n",
    "\n",
    "def shortest_string(lst):\n",
    "    if not lst:\n",
    "        return None\n",
    "    min_length = float('inf')  \n",
    "    shortest_str = \"\"          \n",
    "    for string in lst:\n",
    "        if len(string) < min_length:\n",
    "            min_length = len(string)\n",
    "            shortest_str = string\n",
    "    return shortest_str\n",
    "\n",
    "my_list = [\"pwskills\", \"datascience\", \"pro\", \"batch\", \"2024\"]\n",
    "shortest = shortest_string(my_list)\n",
    "print(\"Shortest string:\", shortest)\n",
    "\n",
    "\n"
   ]
  },
  {
   "cell_type": "code",
   "execution_count": 98,
   "id": "7f3f1ede",
   "metadata": {},
   "outputs": [
    {
     "name": "stdout",
     "output_type": "stream",
     "text": [
      "list of triangular elements:  [1, 3, 6, 10, 15]\n"
     ]
    }
   ],
   "source": [
    "# 48. Create a list of the first `n` triangular numbers.\n",
    "\n",
    "def triangular_number(n):\n",
    "    return (n * (n + 1)) // 2\n",
    "\n",
    "def first_n_triangular_numbers(n):\n",
    "    return [triangular_number(i) for i in range(1, n+1)]\n",
    "\n",
    "n = 5\n",
    "triangular_numbers = first_n_triangular_numbers(n)\n",
    "print(\"list of triangular elements: \",triangular_numbers)\n"
   ]
  },
  {
   "cell_type": "code",
   "execution_count": 99,
   "id": "dced3217",
   "metadata": {},
   "outputs": [
    {
     "name": "stdout",
     "output_type": "stream",
     "text": [
      "Contains subsequent list:  True\n",
      "Contains subsequent list:  True\n"
     ]
    }
   ],
   "source": [
    "# 49. Check if a list contains another list as a subsequence.\n",
    "\n",
    "def is_subsequence(lst, sub_lst):\n",
    "    return all(item in lst for item in sub_lst)\n",
    "\n",
    "main_list = [1, 2, 3, 4, 5, 6, 7]\n",
    "subsequence = [2, 4, 6]\n",
    "print(\"Contains subsequent list: \",is_subsequence(main_list, subsequence))  \n",
    "\n",
    "main_list = [1, 2, 3, 4, 5, 6, 7]\n",
    "subsequence = [4, 3, 6]\n",
    "print(\"Contains subsequent list: \",is_subsequence(main_list, subsequence))  "
   ]
  },
  {
   "cell_type": "code",
   "execution_count": 100,
   "id": "ff8b8f88",
   "metadata": {},
   "outputs": [
    {
     "name": "stdout",
     "output_type": "stream",
     "text": [
      "swapped two elements in list of their indecies:  [1, 4, 3, 2, 5]\n"
     ]
    }
   ],
   "source": [
    "# 50. Swap two elements in a list by their indices.\n",
    "\n",
    "my_list = [1, 2, 3, 4, 5]\n",
    "index1 = 1\n",
    "index2 = 3\n",
    "swap = my_list[index1]\n",
    "my_list[index1] = my_list[index2]\n",
    "my_list[index2] = swap\n",
    "print(\"swapped two elements in list of their indecies: \",my_list)"
   ]
  },
  {
   "cell_type": "code",
   "execution_count": 101,
   "id": "912aeba3",
   "metadata": {},
   "outputs": [
    {
     "name": "stdout",
     "output_type": "stream",
     "text": [
      "list of tuples with integers from 1 to 5 : (1, 2, 3, 4, 5)\n"
     ]
    }
   ],
   "source": [
    "# 1. Create a tuple with integers from 1 to 5.\n",
    "tuples = (1,2,3,4,5)\n",
    "print(\"list of tuples with integers from 1 to 5 :\", tuples)"
   ]
  },
  {
   "cell_type": "code",
   "execution_count": 102,
   "id": "af7eca67",
   "metadata": {},
   "outputs": [
    {
     "name": "stdout",
     "output_type": "stream",
     "text": [
      "Third element of a tuple :  3\n"
     ]
    }
   ],
   "source": [
    "# 2. Access the third element of a tuple.\n",
    "\n",
    "tuples = (1,2,3,4,5)\n",
    "access = tuples[2]\n",
    "print(\"Third element of a tuple : \",access)"
   ]
  },
  {
   "cell_type": "code",
   "execution_count": 103,
   "id": "c8d6496e",
   "metadata": {},
   "outputs": [
    {
     "name": "stdout",
     "output_type": "stream",
     "text": [
      "Length of a tuple without using the len() function : 5\n"
     ]
    }
   ],
   "source": [
    "# 3. Find the length of a tuple without using the `len()` function.\n",
    "\n",
    "def len_tuple(tuples):\n",
    "    count = 0\n",
    "    for i in tuples:\n",
    "        count+=1\n",
    "    return count\n",
    "\n",
    "tuples = (1,2,3,4,5)\n",
    "print(\"Length of a tuple without using the len() function :\",len_tuple(tuples))"
   ]
  },
  {
   "cell_type": "code",
   "execution_count": 104,
   "id": "8864485a",
   "metadata": {},
   "outputs": [
    {
     "name": "stdout",
     "output_type": "stream",
     "text": [
      "occurrence of element in a tuple:  3\n"
     ]
    }
   ],
   "source": [
    "# 4. Count the occurrences of an element in a tuple.\n",
    "\n",
    "my_tuple = (11,22,33,44,33,44,55,33)\n",
    "count_element = 33\n",
    "count =0\n",
    "for i in my_tuple:\n",
    "    if i == count_element:\n",
    "        count +=1\n",
    "    \n",
    "print(\"occurrence of element in a tuple: \",count)\n"
   ]
  },
  {
   "cell_type": "code",
   "execution_count": 105,
   "id": "a90b8d3e",
   "metadata": {},
   "outputs": [
    {
     "name": "stdout",
     "output_type": "stream",
     "text": [
      "Index of the first occurrece of an element in a tupe: 2\n"
     ]
    }
   ],
   "source": [
    "# 5. Find the index of the first occurrence of an element in a tuple\n",
    "my_tuple = (11,22,33,44,33,44,55,33)\n",
    "element = 33\n",
    "index = my_tuple.index(element)\n",
    "print(\"Index of the first occurrece of an element in a tupe:\",index)"
   ]
  },
  {
   "cell_type": "code",
   "execution_count": 106,
   "id": "e601b61e",
   "metadata": {},
   "outputs": [
    {
     "name": "stdout",
     "output_type": "stream",
     "text": [
      "Element exists in a tuple\n"
     ]
    }
   ],
   "source": [
    "# 6. Check if an element exists in a tuple.\n",
    "my_tuple = (11,22,33,44,33,44,55,33)\n",
    "element = 44\n",
    "if element in my_tuple:\n",
    "    print(\"Element exists in a tuple\")\n",
    "else:\n",
    "    print(\"Element Doesn't exist in a tuple\")"
   ]
  },
  {
   "cell_type": "code",
   "execution_count": 107,
   "id": "38cdfbae",
   "metadata": {},
   "outputs": [
    {
     "name": "stdout",
     "output_type": "stream",
     "text": [
      "Converted tuple to a list:  [11, 22, 33, 44, 33, 44, 55, 33]\n"
     ]
    }
   ],
   "source": [
    "# 7. Convert a tuple to a list.\n",
    "\n",
    "my_tuple = (11,22,33,44,33,44,55,33)\n",
    "tuple_to_list = list(my_tuple)\n",
    "print(\"Converted tuple to a list: \",tuple_to_list)"
   ]
  },
  {
   "cell_type": "code",
   "execution_count": 108,
   "id": "5d5f49c5",
   "metadata": {},
   "outputs": [
    {
     "name": "stdout",
     "output_type": "stream",
     "text": [
      "Converted list to a tuple:  (11, 22, 33, 44, 33, 44, 55, 33)\n"
     ]
    }
   ],
   "source": [
    "# 8. Convert a list to a tuple.\n",
    "my_list = [11, 22, 33, 44, 33, 44, 55, 33]\n",
    "list_to_tuple = tuple(my_list)\n",
    "print(\"Converted list to a tuple: \",list_to_tuple)\n"
   ]
  },
  {
   "cell_type": "code",
   "execution_count": 109,
   "id": "227c0556",
   "metadata": {},
   "outputs": [
    {
     "name": "stdout",
     "output_type": "stream",
     "text": [
      "Unpacked variables: 1 2 3\n",
      "a: 1\n",
      "b: 2\n",
      "c: 3\n"
     ]
    }
   ],
   "source": [
    "# 9. Unpack the elements of a tuple into variables.\n",
    "\n",
    "my_tuple = (1, 2, 3)\n",
    "a, b, c = my_tuple\n",
    "print(\"Unpacked variables:\", a, b, c)\n",
    "\n",
    "print(\"a:\",a)\n",
    "print(\"b:\",b)\n",
    "print(\"c:\",c)\n"
   ]
  },
  {
   "cell_type": "code",
   "execution_count": 110,
   "id": "6994d762",
   "metadata": {},
   "outputs": [
    {
     "name": "stdout",
     "output_type": "stream",
     "text": [
      "Tuple of even numbers from 1 to 10: (2, 4, 6, 8, 10)\n"
     ]
    }
   ],
   "source": [
    "# 10. Create a tuple of even numbers from 1 to 10.\n",
    "\n",
    "tuple_of_even_numbers = tuple(i for i in range(2, 11, 2))\n",
    "print(\"Tuple of even numbers from 1 to 10:\", tuple_of_even_numbers)\n"
   ]
  },
  {
   "cell_type": "code",
   "execution_count": 111,
   "id": "7a26be0e",
   "metadata": {},
   "outputs": [
    {
     "name": "stdout",
     "output_type": "stream",
     "text": [
      "Tuple of odd numbers from 1 to 10: (1, 3, 5, 7, 9)\n"
     ]
    }
   ],
   "source": [
    "# 11. Create a tuple of odd numbers from 1 to 10.\n",
    "\n",
    "tuple_of_odd_numbers = tuple(i for i in range(1, 10, 2))\n",
    "print(\"Tuple of odd numbers from 1 to 10:\", tuple_of_odd_numbers)"
   ]
  },
  {
   "cell_type": "code",
   "execution_count": 112,
   "id": "63bbb6f0",
   "metadata": {},
   "outputs": [
    {
     "name": "stdout",
     "output_type": "stream",
     "text": [
      "Conatination of two tuples : (2, 4, 6, 8, 10, 1, 3, 5, 7, 9)\n"
     ]
    }
   ],
   "source": [
    "# 12. Concatenate two tuples.\n",
    "\n",
    "tuples1 =(2, 4, 6, 8, 10)\n",
    "tuples2 =(1, 3, 5, 7, 9)\n",
    "\n",
    "concatinate = tuples1 + tuples2\n",
    "print(\"Conatination of two tuples :\",concatinate)"
   ]
  },
  {
   "cell_type": "code",
   "execution_count": 113,
   "id": "9bcf724e",
   "metadata": {},
   "outputs": [
    {
     "name": "stdout",
     "output_type": "stream",
     "text": [
      "Repeated tuple three times: (1, 2, 3, 1, 2, 3, 1, 2, 3)\n"
     ]
    }
   ],
   "source": [
    "# 13. Repeat a tuple three times.\n",
    "\n",
    "original_tuple = (1, 2, 3)\n",
    "repeated_tuple = original_tuple * 3\n",
    "print(\"Repeated tuple three times:\", repeated_tuple)\n"
   ]
  },
  {
   "cell_type": "code",
   "execution_count": 114,
   "id": "6760b22f",
   "metadata": {},
   "outputs": [
    {
     "name": "stdout",
     "output_type": "stream",
     "text": [
      "Tuple is Empty\n"
     ]
    }
   ],
   "source": [
    "# 14. Check if a tuple is empty.\n",
    "\n",
    "my_tuple = ()\n",
    "if my_tuple == ():\n",
    "    print(\"Tuple is Empty\")\n",
    "else:\n",
    "    print(\"Tuple is Not Empty\")"
   ]
  },
  {
   "cell_type": "code",
   "execution_count": 115,
   "id": "be07585f",
   "metadata": {},
   "outputs": [
    {
     "name": "stdout",
     "output_type": "stream",
     "text": [
      "nested tuple:  ((1, 2, 3, 1, 2, 3, 1, 2, 3), (2, 4, 6, 8, 10, 1, 3, 5, 7, 9), 'pwskillsdatascience,probatch')\n"
     ]
    }
   ],
   "source": [
    "# 15. Create a nested tuple.\n",
    "\n",
    "my_tuple= ((1, 2, 3, 1, 2, 3, 1, 2, 3),(2, 4, 6, 8, 10, 1, 3, 5, 7, 9),(\"pwskillsdatascience,probatch\"))\n",
    "print(\"nested tuple: \",my_tuple)"
   ]
  },
  {
   "cell_type": "code",
   "execution_count": 116,
   "id": "b4d223ea",
   "metadata": {},
   "outputs": [
    {
     "name": "stdout",
     "output_type": "stream",
     "text": [
      "The first element of a nested tuple:  (1, 2, 3, 1, 2, 3, 1, 2, 3)\n"
     ]
    }
   ],
   "source": [
    "# 16. Access the first element of a nested tuple.\n",
    "\n",
    "my_tuple = ((1, 2, 3, 1, 2, 3, 1, 2, 3),(2, 4, 6, 8, 10, 1, 3, 5, 7, 9),(\"pwskillsdatascience,probatch\"))\n",
    "print(\"The first element of a nested tuple: \",my_tuple[0])"
   ]
  },
  {
   "cell_type": "code",
   "execution_count": 117,
   "id": "9eeef36f",
   "metadata": {},
   "outputs": [
    {
     "name": "stdout",
     "output_type": "stream",
     "text": [
      "Tuple with single element:  ('pwskills',)\n"
     ]
    }
   ],
   "source": [
    "# 17. Create a tuple with a single element.\n",
    "\n",
    "my_tuple = (\"pwskills\",)\n",
    "print(\"Tuple with single element: \",my_tuple)"
   ]
  },
  {
   "cell_type": "code",
   "execution_count": 118,
   "id": "565ba63e",
   "metadata": {},
   "outputs": [
    {
     "name": "stdout",
     "output_type": "stream",
     "text": [
      "tuple1 == tuple2: False\n",
      "tuple1 != tuple2: True\n",
      "tuple1 < tuple2: True\n",
      "tuple1 <= tuple2: True\n",
      "tuple1 > tuple2: False\n",
      "tuple1 >= tuple2: False\n"
     ]
    }
   ],
   "source": [
    "# 18. Compare two tuples.\n",
    "\n",
    "tuple1 = (1,2,5,6)\n",
    "tuple2 = (1,2,5,7)\n",
    "\n",
    "print(\"tuple1 == tuple2:\", tuple1 == tuple2)  \n",
    "print(\"tuple1 != tuple2:\", tuple1 != tuple2)  \n",
    "print(\"tuple1 < tuple2:\", tuple1 < tuple2)    \n",
    "print(\"tuple1 <= tuple2:\", tuple1 <= tuple2)  \n",
    "print(\"tuple1 > tuple2:\", tuple1 > tuple2)    \n",
    "print(\"tuple1 >= tuple2:\", tuple1 >= tuple2) "
   ]
  },
  {
   "cell_type": "code",
   "execution_count": 120,
   "id": "830d7ca6",
   "metadata": {},
   "outputs": [
    {
     "ename": "NameError",
     "evalue": "name 'my_tuple' is not defined",
     "output_type": "error",
     "traceback": [
      "\u001b[1;31m---------------------------------------------------------------------------\u001b[0m",
      "\u001b[1;31mNameError\u001b[0m                                 Traceback (most recent call last)",
      "Cell \u001b[1;32mIn[120], line 7\u001b[0m\n\u001b[0;32m      3\u001b[0m my_tuple \u001b[38;5;241m=\u001b[39m (\u001b[38;5;241m1\u001b[39m, \u001b[38;5;241m2\u001b[39m, \u001b[38;5;241m3\u001b[39m)\n\u001b[0;32m      5\u001b[0m \u001b[38;5;28;01mdel\u001b[39;00m my_tuple\n\u001b[1;32m----> 7\u001b[0m \u001b[38;5;28mprint\u001b[39m(\u001b[38;5;124m\"\u001b[39m\u001b[38;5;124mdeleted a tuple: \u001b[39m\u001b[38;5;124m\"\u001b[39m,my_tuple)\n",
      "\u001b[1;31mNameError\u001b[0m: name 'my_tuple' is not defined"
     ]
    }
   ],
   "source": [
    "# 19. Delete a tuple.\n",
    "\n",
    "my_tuple = (1, 2, 3)\n",
    "\n",
    "del my_tuple\n",
    "\n",
    "print(\"deleted a tuple: \",my_tuple)"
   ]
  },
  {
   "cell_type": "code",
   "execution_count": 121,
   "id": "55bb0464",
   "metadata": {},
   "outputs": [
    {
     "name": "stdout",
     "output_type": "stream",
     "text": [
      "Sliced tuple is:  (2, 3, 4, 5, 6, 7)\n"
     ]
    }
   ],
   "source": [
    "# 20. Slice a tuple.\n",
    "\n",
    "my_tuple = (1, 2, 3, 4, 5, 6, 7, 8, 9, 10, 11, 12, 13)\n",
    "\n",
    "sliced_tuple = my_tuple[1:7] \n",
    "\n",
    "print(\"Sliced tuple is: \",sliced_tuple)\n"
   ]
  },
  {
   "cell_type": "code",
   "execution_count": 122,
   "id": "c6b788d0",
   "metadata": {},
   "outputs": [
    {
     "name": "stdout",
     "output_type": "stream",
     "text": [
      "maximum value in a tuple:  13\n"
     ]
    }
   ],
   "source": [
    "# 21. Find the maximum value in a tuple.\n",
    "\n",
    "my_tuple = (1, 2, 3, 4, 5, 6, 7, 8, 9, 10, 11, 12, 13)\n",
    "\n",
    "max_value = max(my_tuple)\n",
    "\n",
    "print(\"maximum value in a tuple: \",max_value)"
   ]
  },
  {
   "cell_type": "code",
   "execution_count": 123,
   "id": "82fe8334",
   "metadata": {},
   "outputs": [
    {
     "name": "stdout",
     "output_type": "stream",
     "text": [
      "minimum value in a tuple:  1\n"
     ]
    }
   ],
   "source": [
    "# 22. Find the minimum value in a tuple.\n",
    "my_tuple = (1, 2, 3, 4, 5, 6, 7, 8, 9, 10, 11, 12, 13)\n",
    "\n",
    "min_value = min(my_tuple)\n",
    "\n",
    "print(\"minimum value in a tuple: \",min_value)"
   ]
  },
  {
   "cell_type": "code",
   "execution_count": 124,
   "id": "95298873",
   "metadata": {},
   "outputs": [
    {
     "name": "stdout",
     "output_type": "stream",
     "text": [
      "Converted string to tuple to character:  ('p', 'w', 's', 'k', 'i', 'l', 'l', 's', ' ', 'd', 'a', 't', 'a', ' ', 's', 'c', 'i', 'e', 'n', 'c', 'e', ' ', 'b', 'a', 't', 'c', 'h', ' ', '2', '0', '2', '4')\n"
     ]
    }
   ],
   "source": [
    "# 23. Convert a string to a tuple of characters.\n",
    "\n",
    "string = \"pwskills data science batch 2024\"\n",
    "tuple_of_character = tuple(string)\n",
    "print(\"Converted string to tuple to character: \", tuple_of_character)"
   ]
  },
  {
   "cell_type": "code",
   "execution_count": 125,
   "id": "dff85eba",
   "metadata": {},
   "outputs": [
    {
     "name": "stdout",
     "output_type": "stream",
     "text": [
      "Converted tuple to string to character:  pwskills data science batch 2024\n"
     ]
    }
   ],
   "source": [
    "# 24. Convert a tuple of characters to a string.\n",
    "tuples  =  ('p', 'w', 's', 'k', 'i', 'l', 'l', 's', ' ', 'd', 'a', 't', 'a', ' ', 's', 'c', 'i', 'e', 'n', 'c', 'e', ' ', 'b', 'a', 't', 'c', 'h', ' ', '2', '0', '2', '4')\n",
    "\n",
    "\n",
    "string_of_character = \"\".join(tuples)\n",
    "print(\"Converted tuple to string to character: \", string_of_character)"
   ]
  },
  {
   "cell_type": "code",
   "execution_count": 126,
   "id": "0d48fa49",
   "metadata": {},
   "outputs": [
    {
     "name": "stdout",
     "output_type": "stream",
     "text": [
      "Tuple of multiple data type :  ('hello', 4.15, 101, True)\n"
     ]
    }
   ],
   "source": [
    "# 25. Create a tuple from multiple data types.\n",
    "\n",
    "my_tuple = (\"hello\",4.15,101,True)\n",
    "print(\"Tuple of multiple data type : \",my_tuple)"
   ]
  },
  {
   "cell_type": "code",
   "execution_count": 127,
   "id": "12823cae",
   "metadata": {},
   "outputs": [
    {
     "name": "stdout",
     "output_type": "stream",
     "text": [
      "Two tuples are identical\n"
     ]
    }
   ],
   "source": [
    "# 26. Check if two tuples are identical.\n",
    "\n",
    "tuple1 = (1,2,5,6)\n",
    "tuple2 = (1,2,5,6)\n",
    "\n",
    "if tuple1==tuple2:\n",
    "    print(\"Two tuples are identical\")\n",
    "else:\n",
    "    print(\"Two tuples are Not identical\")"
   ]
  },
  {
   "cell_type": "code",
   "execution_count": 128,
   "id": "239d800d",
   "metadata": {},
   "outputs": [
    {
     "name": "stdout",
     "output_type": "stream",
     "text": [
      "Sorted elements of a tuple:  (1, 2, 5, 6, 7, 11, 13, 21, 25, 34, 34, 65, 87, 98)\n"
     ]
    }
   ],
   "source": [
    "# 27. Sort the elements of a tuple.\n",
    "\n",
    "my_tuple = (1,11,13,6,7,5,2,21,34,25,87,34,98,65)\n",
    "list_tuple = list(sorted(my_tuple))\n",
    "sorted_tuple = tuple(list_tuple)\n",
    "print(\"Sorted elements of a tuple: \",sorted_tuple)\n"
   ]
  },
  {
   "cell_type": "code",
   "execution_count": 129,
   "id": "fa7db708",
   "metadata": {},
   "outputs": [
    {
     "name": "stdout",
     "output_type": "stream",
     "text": [
      "Converted a tuple of integers to a tuple of strings:  ('1', '11', '13', '6', '7', '5', '2', '21', '34', '25', '87', '34', '98', '65')\n"
     ]
    }
   ],
   "source": [
    "# 28. Convert a tuple of integers to a tuple of strings.\n",
    "\n",
    "my_tuple = (1,11,13,6,7,5,2,21,34,25,87,34,98,65)\n",
    "converted_tuple = tuple(str(i) for i in my_tuple)\n",
    "print(\"Converted a tuple of integers to a tuple of strings: \",converted_tuple)"
   ]
  },
  {
   "cell_type": "code",
   "execution_count": 130,
   "id": "515203cb",
   "metadata": {},
   "outputs": [
    {
     "name": "stdout",
     "output_type": "stream",
     "text": [
      "Converted a tuple of strings to a tuple of integers:  (1, 11, 13, 6, 7, 5, 2, 21, 34, 25, 87, 34, 98, 65)\n"
     ]
    }
   ],
   "source": [
    "# 29. Convert a tuple of strings to a tuple of integers.\n",
    "\n",
    "my_tuple = ('1', '11', '13', '6', '7', '5', '2', '21', '34', '25', '87', '34', '98', '65')\n",
    "converted_tuple = tuple(int(i) for i in my_tuple)\n",
    "print(\"Converted a tuple of strings to a tuple of integers: \",converted_tuple)"
   ]
  },
  {
   "cell_type": "code",
   "execution_count": 131,
   "id": "01c1a21d",
   "metadata": {},
   "outputs": [
    {
     "name": "stdout",
     "output_type": "stream",
     "text": [
      "The merged two tuples:  (1, 2, 5, 6, 1, 2, 5, 6)\n"
     ]
    }
   ],
   "source": [
    "# 30. Merge two tuples.\n",
    "\n",
    "\n",
    "tuple1 = (1,2,5,6)\n",
    "tuple2 = (1,2,5,6)\n",
    "\n",
    "merged_tuple = tuple1 + tuple2\n",
    "print(\"The merged two tuples: \",merged_tuple)"
   ]
  },
  {
   "cell_type": "code",
   "execution_count": 132,
   "id": "feb92bda",
   "metadata": {},
   "outputs": [
    {
     "name": "stdout",
     "output_type": "stream",
     "text": [
      "flattened tuple:  (1, 2, 3, 4, 5, 6, 7, 8)\n"
     ]
    }
   ],
   "source": [
    "# 31. Flatten a nested tuple.\n",
    "\n",
    "def flatten_tuple(nested_tuple):\n",
    "    flattened = []\n",
    "    for item in nested_tuple:\n",
    "        if isinstance(item, tuple):\n",
    "            flattened.extend(flatten_tuple(item))\n",
    "        else:\n",
    "            flattened.append(item)\n",
    "    return tuple(flattened)\n",
    "\n",
    "# Example usage:\n",
    "nested_tuple = (1, (2, 3), (4, (5, 6), 7), 8)\n",
    "flattened_tuple = flatten_tuple(nested_tuple)\n",
    "print(\"flattened tuple: \",flattened_tuple)\n"
   ]
  },
  {
   "cell_type": "code",
   "execution_count": 133,
   "id": "f12514d2",
   "metadata": {},
   "outputs": [
    {
     "name": "stdout",
     "output_type": "stream",
     "text": [
      "Tuple of the first 5 prime numbers: (2, 3, 5, 7, 11)\n"
     ]
    }
   ],
   "source": [
    "# 32. Create a tuple of the first 5 prime numbers.\n",
    "\n",
    "def is_prime(num):\n",
    "    if num <= 1:\n",
    "        return False\n",
    "    for i in range(2, int(num ** 0.5) + 1):\n",
    "        if num % i == 0:\n",
    "            return False\n",
    "    return True\n",
    "prime_numbers_list = [num for num in range(2, 100) if is_prime(num)][:5]\n",
    "\n",
    "prime_numbers_tuple = tuple(prime_numbers_list)\n",
    "\n",
    "print(\"Tuple of the first 5 prime numbers:\", prime_numbers_tuple)"
   ]
  },
  {
   "cell_type": "code",
   "execution_count": 134,
   "id": "060ea8c9",
   "metadata": {},
   "outputs": [
    {
     "name": "stdout",
     "output_type": "stream",
     "text": [
      "tuple is palindrome\n"
     ]
    }
   ],
   "source": [
    "# 33. Check if a tuple is a palindrome.\n",
    "\n",
    "def is_palindrome(tuples):\n",
    "    if tuples[::]==tuples[::-1]:\n",
    "        print(\"tuple is palindrome\")\n",
    "    else:\n",
    "        print(\"tuple is not palindrome\")\n",
    "        \n",
    "tuples = (1,2,4,2,1)\n",
    "result = is_palindrome(tuples)"
   ]
  },
  {
   "cell_type": "code",
   "execution_count": 135,
   "id": "2021a4c7",
   "metadata": {},
   "outputs": [
    {
     "name": "stdout",
     "output_type": "stream",
     "text": [
      "Square of numbers from 1 to 5:  (1, 4, 9, 16, 25)\n"
     ]
    }
   ],
   "source": [
    "# 34. Create a tuple of squares of numbers from 1 to 5.\n",
    "\n",
    "def create_square(n):\n",
    "    square_tuple = tuple(i**2 for i in range(1,n+1))\n",
    "    return square_tuple\n",
    "\n",
    "\n",
    "result = create_square(5)\n",
    "print(\"Square of numbers from 1 to 5: \",result)"
   ]
  },
  {
   "cell_type": "code",
   "execution_count": 136,
   "id": "140f5ef9",
   "metadata": {},
   "outputs": [
    {
     "name": "stdout",
     "output_type": "stream",
     "text": [
      "Filtered all even numbers from a tuple:  (2, 56, 34, 56, 78, 98)\n"
     ]
    }
   ],
   "source": [
    "# 35. Filter out all even numbers from a tuple.\n",
    "\n",
    "def filter_even(my_tuple):\n",
    "    even_tuple = tuple(i for i in my_tuple if i%2==0)\n",
    "    return even_tuple\n",
    "\n",
    "my_tuple = (1,2,3,5,7,89,56,34,56,78,98)\n",
    "result = filter_even(my_tuple)\n",
    "print(\"Filtered all even numbers from a tuple: \",result)"
   ]
  },
  {
   "cell_type": "code",
   "execution_count": 137,
   "id": "26c8d77e",
   "metadata": {},
   "outputs": [
    {
     "name": "stdout",
     "output_type": "stream",
     "text": [
      "Multiplyed all elements in a tuple by 2:  (2, 4, 6, 8, 10, 12, 14, 16, 18)\n"
     ]
    }
   ],
   "source": [
    "# 36. Multiply all elements in a tuple by 2.\n",
    "def Multiply_tuple (input_tuple):\n",
    "    my_tuple = tuple(i*2 for i in input_tuple)\n",
    "    return my_tuple\n",
    "\n",
    "input_tuple = (1,2,3,4,5,6,7,8,9)\n",
    "result = Multiply_tuple(input_tuple)\n",
    "print(\"Multiplyed all elements in a tuple by 2: \",result)"
   ]
  },
  {
   "cell_type": "code",
   "execution_count": 138,
   "id": "4a91ddb4",
   "metadata": {},
   "outputs": [
    {
     "name": "stdout",
     "output_type": "stream",
     "text": [
      "Tuple of random numbers:  (10, 66, 14, 65, 40, 17, 83, 41, 19, 87)\n"
     ]
    }
   ],
   "source": [
    "# 37. Create a tuple of random numbers.\n",
    "import random\n",
    "\n",
    "my_tuple = tuple(random.randint(1, 100) for _ in range(10))\n",
    "print(\"Tuple of random numbers: \",my_tuple)\n",
    "    \n"
   ]
  },
  {
   "cell_type": "code",
   "execution_count": 139,
   "id": "762fe1e2",
   "metadata": {},
   "outputs": [
    {
     "name": "stdout",
     "output_type": "stream",
     "text": [
      "Is my_tuple_1 sorted? True\n",
      "Is my_tuple_2 sorted? False\n"
     ]
    }
   ],
   "source": [
    "# 38. Check if a tuple is sorted.\n",
    "\n",
    "def is_sorted_tuple(input_tuple):\n",
    "    return input_tuple == tuple(sorted(input_tuple))\n",
    "\n",
    "my_tuple_1 = (1, 2, 3, 4, 5)\n",
    "my_tuple_2 = (5, 4, 3, 2, 1)\n",
    "\n",
    "print(\"Is my_tuple_1 sorted?\", is_sorted_tuple(my_tuple_1))\n",
    "print(\"Is my_tuple_2 sorted?\", is_sorted_tuple(my_tuple_2))\n"
   ]
  },
  {
   "cell_type": "code",
   "execution_count": 140,
   "id": "f1423928",
   "metadata": {},
   "outputs": [
    {
     "name": "stdout",
     "output_type": "stream",
     "text": [
      "Rotated tuple to the left by n position:  (3, 4, 5, 1, 2)\n"
     ]
    }
   ],
   "source": [
    "# 39. Rotate a tuple to the left by `n` positions.\n",
    "\n",
    "def rotate_tuple_left(tup, n):\n",
    "    n = n % len(tup) \n",
    "    rotated_tuple = tup[n:] + tup[:n]  \n",
    "    return rotated_tuple\n",
    "\n",
    "my_tuple = (1, 2, 3, 4, 5)\n",
    "n_positions = 2\n",
    "result = rotate_tuple_left(my_tuple, n_positions)\n",
    "print(\"Rotated tuple to the left by n position: \",result)\n"
   ]
  },
  {
   "cell_type": "code",
   "execution_count": 141,
   "id": "8c1abb92",
   "metadata": {},
   "outputs": [
    {
     "name": "stdout",
     "output_type": "stream",
     "text": [
      "Rotated a tuple to the right by n position:  (4, 5, 1, 2, 3)\n"
     ]
    }
   ],
   "source": [
    "# 40. Rotate a tuple to the right by `n` positions.\n",
    "\n",
    "def rotate_tuple_right(tup, n):\n",
    "    n = n % len(tup)  \n",
    "    rotated_tuple = tup[-n:] + tup[:-n]  \n",
    "    return rotated_tuple\n",
    "\n",
    "my_tuple = (1, 2, 3, 4, 5)\n",
    "n_positions = 2\n",
    "result = rotate_tuple_right(my_tuple, n_positions)\n",
    "print(\"Rotated a tuple to the right by n position: \",result)"
   ]
  },
  {
   "cell_type": "code",
   "execution_count": 142,
   "id": "5d408ccc",
   "metadata": {},
   "outputs": [
    {
     "name": "stdout",
     "output_type": "stream",
     "text": [
      "first five fibonacci numbers are:  (0, 1, 1, 2, 3)\n"
     ]
    }
   ],
   "source": [
    "# 41. Create a tuple of the first 5 Fibonacci numbers.\n",
    "\n",
    "def generate_fibonacci(n):\n",
    "    fibonacci_numbers = [0, 1]  \n",
    "\n",
    "    for i in range(2, n):\n",
    "        next_fibonacci = fibonacci_numbers[-1] + fibonacci_numbers[-2] \n",
    "        fibonacci_numbers.append(next_fibonacci)  \n",
    "    \n",
    "    return tuple(fibonacci_numbers[:n]) \n",
    "\n",
    "\n",
    "fibonacci_tuple = generate_fibonacci(5)\n",
    "print(\"first five fibonacci numbers are: \",fibonacci_tuple)\n"
   ]
  },
  {
   "cell_type": "code",
   "execution_count": 206,
   "id": "360e1a1b",
   "metadata": {},
   "outputs": [
    {
     "name": "stdout",
     "output_type": "stream",
     "text": [
      "Enter the input to create tuples separated by spaces: pwskills data science\n",
      "Tuple created from user input: ('pwskills', 'data', 'science')\n"
     ]
    }
   ],
   "source": [
    "# 42. Create a tuple from user input.\n",
    "\n",
    "user_input = input(\"Enter the input to create tuples separated by spaces: \")\n",
    "\n",
    "separate_tuple = user_input.split()  # Splitting input by spaces\n",
    "\n",
    "into_tuple = tuple(separate_tuple)\n",
    "\n",
    "print(\"Tuple created from user input:\", into_tuple)\n"
   ]
  },
  {
   "cell_type": "code",
   "execution_count": null,
   "id": "9d817a48",
   "metadata": {},
   "outputs": [],
   "source": []
  },
  {
   "cell_type": "code",
   "execution_count": 147,
   "id": "e7da1e6f",
   "metadata": {},
   "outputs": [
    {
     "name": "stdout",
     "output_type": "stream",
     "text": [
      "Original Tuple: (1, 2, 3, 4, 5)\n",
      "Swapped Tuple: (1, 4, 3, 2, 5)\n"
     ]
    }
   ],
   "source": [
    "# 43. Swap two elements in a tuple.\n",
    "\n",
    "\n",
    "original_tuple = (1, 2, 3, 4, 5)\n",
    "\n",
    "tuple_list = list(original_tuple)\n",
    "\n",
    "tuple_list[1], tuple_list[3] = tuple_list[3], tuple_list[1]\n",
    "\n",
    "swapped_tuple = tuple(tuple_list)\n",
    "\n",
    "print(\"Original Tuple:\", original_tuple)\n",
    "print(\"Swapped Tuple:\", swapped_tuple)\n"
   ]
  },
  {
   "cell_type": "code",
   "execution_count": 148,
   "id": "8f9e5fc9",
   "metadata": {},
   "outputs": [
    {
     "name": "stdout",
     "output_type": "stream",
     "text": [
      "Reversed elements of a tuple:  (5, 4, 3, 2, 1)\n"
     ]
    }
   ],
   "source": [
    "# 44. Reverse the elements of a tuple.\n",
    "\n",
    "original_tuple = (1, 2, 3, 4, 5)\n",
    "reversed_tuple = original_tuple[::-1]\n",
    "print(\"Reversed elements of a tuple: \",reversed_tuple)"
   ]
  },
  {
   "cell_type": "code",
   "execution_count": 149,
   "id": "afe19722",
   "metadata": {},
   "outputs": [
    {
     "name": "stdout",
     "output_type": "stream",
     "text": [
      "tuple of the first n powers of 2:  (1, 2, 4, 8, 16)\n"
     ]
    }
   ],
   "source": [
    "# 45. Create a tuple of the first `n` powers of 2.\n",
    "\n",
    "def n_power(n):\n",
    "    my_tuple = tuple(2** i for i in range(n))\n",
    "    return my_tuple\n",
    "\n",
    "result = n_power(5)\n",
    "print(\"tuple of the first n powers of 2: \",result)"
   ]
  },
  {
   "cell_type": "code",
   "execution_count": 150,
   "id": "775abc01",
   "metadata": {},
   "outputs": [
    {
     "name": "stdout",
     "output_type": "stream",
     "text": [
      "Longest string in a tuple of string:  datascience\n"
     ]
    }
   ],
   "source": [
    "# 46. Find the longest string in a tuple of strings.\n",
    "\n",
    "my_tuple = (\"pwskills\",\"datascience\",\"pro\",\"2024\")\n",
    "\n",
    "longest_string = max(my_tuple,key= len)\n",
    "print(\"Longest string in a tuple of string: \",longest_string)"
   ]
  },
  {
   "cell_type": "code",
   "execution_count": 151,
   "id": "76f136c8",
   "metadata": {},
   "outputs": [
    {
     "name": "stdout",
     "output_type": "stream",
     "text": [
      "shortest string in a tuple of string:  pro\n"
     ]
    }
   ],
   "source": [
    "# 47. Find the shortest string in a tuple of strings.\n",
    "\n",
    "my_tuple = (\"pwskills\",\"datascience\",\"pro\",\"2024\")\n",
    "\n",
    "shortest_string = min(my_tuple,key= len)\n",
    "print(\"shortest string in a tuple of string: \",shortest_string)"
   ]
  },
  {
   "cell_type": "code",
   "execution_count": 152,
   "id": "dba0930d",
   "metadata": {},
   "outputs": [
    {
     "name": "stdout",
     "output_type": "stream",
     "text": [
      "Tuple of the first 5 triangular numbers: (1, 3, 6, 10, 15)\n"
     ]
    }
   ],
   "source": [
    "# 48. Create a tuple of the first `n` triangular numbers.\n",
    "\n",
    "def triangular_numbers(n):\n",
    "    triangular_tuple = tuple((i * (i + 1)) // 2 for i in range(1, n + 1))\n",
    "    return triangular_tuple\n",
    "\n",
    "n = 5  \n",
    "result = triangular_numbers(n)\n",
    "print(\"Tuple of the first\", n, \"triangular numbers:\", result)\n"
   ]
  },
  {
   "cell_type": "code",
   "execution_count": 153,
   "id": "cbf6bb1a",
   "metadata": {},
   "outputs": [
    {
     "name": "stdout",
     "output_type": "stream",
     "text": [
      "Main Tuple: (1, 2, 3, 4, 5)\n",
      "Sub Tuple: (2, 3, 4)\n",
      "Does Main Tuple contain Sub Tuple? True\n"
     ]
    }
   ],
   "source": [
    "# 49. Check if a tuple contains another tuple as a subsequence.\n",
    "\n",
    "def contains_subsequence(main_tuple, sub_tuple):\n",
    "    sub_len = len(sub_tuple)\n",
    "    main_len = len(main_tuple)\n",
    "    \n",
    "    if sub_len > main_len:\n",
    "        return False\n",
    "    \n",
    "    for i in range(main_len - sub_len + 1):\n",
    "        if main_tuple[i:i+sub_len] == sub_tuple:\n",
    "            return True\n",
    "    \n",
    "    return False\n",
    "\n",
    "main_tuple = (1, 2, 3, 4, 5)\n",
    "sub_tuple = (2, 3, 4)\n",
    "print(\"Main Tuple:\", main_tuple)\n",
    "print(\"Sub Tuple:\", sub_tuple)\n",
    "print(\"Does Main Tuple contain Sub Tuple?\", contains_subsequence(main_tuple, sub_tuple))\n"
   ]
  },
  {
   "cell_type": "code",
   "execution_count": 154,
   "id": "d79d49c4",
   "metadata": {},
   "outputs": [
    {
     "name": "stdout",
     "output_type": "stream",
     "text": [
      "Tuple of alternating 1s and 0s of length : (1, 0, 1, 0, 1, 0, 1)\n"
     ]
    }
   ],
   "source": [
    "# 50. Create a tuple of alternating 1s and 0s of length `n`.\n",
    "def alternating_tuple(n):\n",
    "    return tuple(1 if i % 2 == 0 else 0 for i in range(n))\n",
    "\n",
    "n = 7  \n",
    "result = alternating_tuple(n)\n",
    "print(\"Tuple of alternating 1s and 0s of length :\", result)\n"
   ]
  },
  {
   "cell_type": "code",
   "execution_count": 155,
   "id": "b9c45d66",
   "metadata": {},
   "outputs": [
    {
     "name": "stdout",
     "output_type": "stream",
     "text": [
      "Set integers from 1 to 5:  {1, 2, 3, 4, 5}\n"
     ]
    }
   ],
   "source": [
    "# 1. Create a set with integers from 1 to 5.\n",
    "\n",
    "set_integers = {1,2,3,4,5}\n",
    "print(\"Set integers from 1 to 5: \",set_integers)"
   ]
  },
  {
   "cell_type": "code",
   "execution_count": 156,
   "id": "48479301",
   "metadata": {},
   "outputs": [
    {
     "name": "stdout",
     "output_type": "stream",
     "text": [
      "Added an element to a set:  {1, 2, 3, 4, 5, 6}\n"
     ]
    }
   ],
   "source": [
    "# 2. Add an element to a set.\n",
    "\n",
    "def add_element(element,original_set):\n",
    "    original_set.add(element)\n",
    "    return original_set\n",
    "\n",
    "original_set = {1,2,3,4,5}\n",
    "element = 6\n",
    "print(\"Added an element to a set: \",add_element(element,original_set))"
   ]
  },
  {
   "cell_type": "code",
   "execution_count": 157,
   "id": "3f3b8b89",
   "metadata": {},
   "outputs": [
    {
     "name": "stdout",
     "output_type": "stream",
     "text": [
      "Removed an element from a set:  {1, 2, 4, 5}\n"
     ]
    }
   ],
   "source": [
    "# 3. Remove an element from a set.\n",
    "\n",
    "my_set = {1,2,3,4,5}\n",
    "\n",
    "element_remove = 3\n",
    "\n",
    "my_set.remove(element_remove)\n",
    " \n",
    "print(\"Removed an element from a set: \",my_set)"
   ]
  },
  {
   "cell_type": "code",
   "execution_count": 158,
   "id": "3e4acad5",
   "metadata": {},
   "outputs": [
    {
     "name": "stdout",
     "output_type": "stream",
     "text": [
      "input element to check in a list: 4\n",
      "element exists in a set\n"
     ]
    }
   ],
   "source": [
    "# 4. Check if an element exists in a set.\n",
    "\n",
    "my_set = {1,2,3,4,5}\n",
    "\n",
    "input_element_check = int(input(\"input element to check in a list: \"))\n",
    "\n",
    "if input_element_check in my_set:\n",
    "    print(\"element exists in a set\")\n",
    "else:\n",
    "    print(\"element doesnt exist in a set\")"
   ]
  },
  {
   "cell_type": "code",
   "execution_count": 159,
   "id": "130aacae",
   "metadata": {},
   "outputs": [
    {
     "name": "stdout",
     "output_type": "stream",
     "text": [
      "Length of a set without using the len() function : 5\n"
     ]
    }
   ],
   "source": [
    "# 5. Find the length of a set without using the `len()` function.\n",
    "\n",
    "my_set = {1,2,3,4,5}\n",
    "\n",
    "count = 0\n",
    "\n",
    "for i in my_set:\n",
    "    count+=1\n",
    "\n",
    "print(\"Length of a set without using the len() function :\",count)\n"
   ]
  },
  {
   "cell_type": "code",
   "execution_count": 160,
   "id": "5572661a",
   "metadata": {},
   "outputs": [
    {
     "name": "stdout",
     "output_type": "stream",
     "text": [
      "Cleared all elements from a set:  set()\n"
     ]
    }
   ],
   "source": [
    "# 6. Clear all elements from a set.\n",
    "\n",
    "my_set = {1,2,3,4,5}\n",
    "my_set.clear()\n",
    "print(\"Cleared all elements from a set: \",my_set)"
   ]
  },
  {
   "cell_type": "code",
   "execution_count": 161,
   "id": "1031ca4f",
   "metadata": {},
   "outputs": [
    {
     "name": "stdout",
     "output_type": "stream",
     "text": [
      "even numbers from 1 to 10 : {2, 4, 6, 8, 10}\n"
     ]
    }
   ],
   "source": [
    "# 7. Create a set of even numbers from 1 to 10.\n",
    "\n",
    "even_set = set()\n",
    "\n",
    "for i in range(1,11):\n",
    "    if i%2==0:\n",
    "        even_set.add(i)\n",
    "        \n",
    "print(\"even numbers from 1 to 10 :\",even_set)"
   ]
  },
  {
   "cell_type": "code",
   "execution_count": 162,
   "id": "8fcb766d",
   "metadata": {},
   "outputs": [
    {
     "name": "stdout",
     "output_type": "stream",
     "text": [
      "odd numbers from 1 to 10 : {1, 3, 5, 7, 9}\n"
     ]
    }
   ],
   "source": [
    "# 8. Create a set of odd numbers from 1 to 10.\n",
    "\n",
    "odd_set = set()\n",
    "\n",
    "for i in range(1,11):\n",
    "    if i%2 != 0:\n",
    "        odd_set.add(i)\n",
    "        \n",
    "print(\"odd numbers from 1 to 10 :\",odd_set)"
   ]
  },
  {
   "cell_type": "code",
   "execution_count": 163,
   "id": "9b6ad213",
   "metadata": {},
   "outputs": [
    {
     "name": "stdout",
     "output_type": "stream",
     "text": [
      "union of two sets is : {1, 2, 3, 4, 5, 6, 7, 8, 9, 10}\n"
     ]
    }
   ],
   "source": [
    "# 9. Find the union of two sets.\n",
    "\n",
    "set1 = {2, 4, 6, 8, 10}\n",
    "set2 = {1, 3, 5, 7, 9}\n",
    "union = set1.union(set2)\n",
    "\n",
    "print(\"union of two sets is :\",union)"
   ]
  },
  {
   "cell_type": "code",
   "execution_count": 164,
   "id": "f5cdbf5b",
   "metadata": {},
   "outputs": [
    {
     "name": "stdout",
     "output_type": "stream",
     "text": [
      "intersection of two sets:  {10}\n"
     ]
    }
   ],
   "source": [
    "# 10. Find the intersection of two sets.\n",
    "set1 = {2, 4, 6, 8, 10}\n",
    "set2 = {1, 3, 5, 7, 9,10}\n",
    "\n",
    "intersection = set1.intersection(set2)\n",
    "print(\"intersection of two sets: \",intersection)"
   ]
  },
  {
   "cell_type": "code",
   "execution_count": 165,
   "id": "9c3953ea",
   "metadata": {},
   "outputs": [
    {
     "name": "stdout",
     "output_type": "stream",
     "text": [
      "difference of two sets:  {8, 2, 4, 6}\n"
     ]
    }
   ],
   "source": [
    "# 11. Find the difference between two sets.\n",
    "\n",
    "set1 = {2, 4, 6, 8, 10}\n",
    "set2 = {1, 3, 5, 7, 9,10}\n",
    "\n",
    "difference = set1.difference(set2)\n",
    "print(\"difference of two sets: \",difference)"
   ]
  },
  {
   "cell_type": "code",
   "execution_count": 166,
   "id": "0d57eb82",
   "metadata": {},
   "outputs": [
    {
     "name": "stdout",
     "output_type": "stream",
     "text": [
      "checking if a subset of another set or not:  True\n"
     ]
    }
   ],
   "source": [
    "# 12. Check if a set is a subset of another set.\n",
    "\n",
    "set1 = {1,2,3}\n",
    "set2 = {1,2,3,4,5}\n",
    "\n",
    "subset = set1.issubset(set2)\n",
    "print(\"checking if a subset of another set or not: \",subset)"
   ]
  },
  {
   "cell_type": "code",
   "execution_count": 167,
   "id": "90824148",
   "metadata": {},
   "outputs": [
    {
     "name": "stdout",
     "output_type": "stream",
     "text": [
      "checking if a superset of another set or not:  True\n"
     ]
    }
   ],
   "source": [
    "# 13. Check if a set is a superset of another set.\n",
    "set1 = {1,2,3,4,5}\n",
    "set2 = {3,4}\n",
    "\n",
    "superset = set1.issuperset(set2)\n",
    "print(\"checking if a superset of another set or not: \",superset)\n"
   ]
  },
  {
   "cell_type": "code",
   "execution_count": 168,
   "id": "2676b757",
   "metadata": {},
   "outputs": [
    {
     "name": "stdout",
     "output_type": "stream",
     "text": [
      "set from a list:  {1, 2, 3, 4, 5}\n"
     ]
    }
   ],
   "source": [
    "# 14. Create a set from a list.\n",
    "my_list = [1,2,3,4,5]\n",
    "\n",
    "list_set = set(my_list)\n",
    "print(\"set from a list: \",list_set)\n"
   ]
  },
  {
   "cell_type": "code",
   "execution_count": 169,
   "id": "15b64378",
   "metadata": {},
   "outputs": [
    {
     "name": "stdout",
     "output_type": "stream",
     "text": [
      "set to a list:  [1, 2, 3, 4, 5]\n"
     ]
    }
   ],
   "source": [
    "#15. Convert a set to a list.\n",
    "\n",
    "my_set = {1, 2, 3, 4, 5}\n",
    "set_list = list(my_set)\n",
    "print(\"set to a list: \",set_list)"
   ]
  },
  {
   "cell_type": "code",
   "execution_count": 170,
   "id": "e2ee62b9",
   "metadata": {},
   "outputs": [
    {
     "name": "stdout",
     "output_type": "stream",
     "text": [
      "Removed random element: 1\n",
      "Updated set: {2, 3, 4, 5}\n"
     ]
    }
   ],
   "source": [
    "# 16. Remove a random element from a set.\n",
    "\n",
    "\n",
    "my_set = {1, 2, 3, 4, 5}\n",
    "random_element = my_set.pop()\n",
    "\n",
    "print(\"Removed random element:\", random_element)\n",
    "print(\"Updated set:\", my_set)\n"
   ]
  },
  {
   "cell_type": "code",
   "execution_count": 171,
   "id": "11784d3b",
   "metadata": {},
   "outputs": [
    {
     "name": "stdout",
     "output_type": "stream",
     "text": [
      "Removed random element: 1\n",
      "Updated set: {2, 3, 4, 5}\n"
     ]
    }
   ],
   "source": [
    "# 17. Pop an element from a set.\n",
    "\n",
    "my_set = {1, 2, 3, 4, 5}\n",
    "random_element = my_set.pop()\n",
    "\n",
    "print(\"Removed random element:\", random_element)\n",
    "print(\"Updated set:\", my_set)\n"
   ]
  },
  {
   "cell_type": "code",
   "execution_count": 172,
   "id": "d5cc44de",
   "metadata": {},
   "outputs": [
    {
     "name": "stdout",
     "output_type": "stream",
     "text": [
      "two sets have no elements in common\n"
     ]
    }
   ],
   "source": [
    "# 18. Check if two sets have no elements in common.\n",
    "\n",
    "set1 = {1,2,3}\n",
    "set2 = {7,8,9}\n",
    "\n",
    "check_common = set1.intersection(set2)\n",
    "\n",
    "if not check_common:\n",
    "    print(\"two sets have no elements in common\")\n",
    "else:\n",
    "    print(\"two sets have elements in common\")"
   ]
  },
  {
   "cell_type": "code",
   "execution_count": 173,
   "id": "0bbad00e",
   "metadata": {},
   "outputs": [
    {
     "name": "stdout",
     "output_type": "stream",
     "text": [
      "symmetric difference:  {1, 2, 3, 7, 8, 9}\n"
     ]
    }
   ],
   "source": [
    "# 19. Find the symmetric difference between two sets.\n",
    "\n",
    "set1 = {1,2,3,4,5}\n",
    "set2 = {4,5,7,8,9}\n",
    "\n",
    "symmetric_diff = set1 ^ set2\n",
    "print(\"symmetric difference: \",symmetric_diff)"
   ]
  },
  {
   "cell_type": "code",
   "execution_count": 174,
   "id": "6eaa3ec9",
   "metadata": {},
   "outputs": [
    {
     "name": "stdout",
     "output_type": "stream",
     "text": [
      "updated set1 with elements from another set(set2):  {1, 2, 3, 4, 5, 7, 8, 9}\n"
     ]
    }
   ],
   "source": [
    "# 20. Update a set with elements from another set.\n",
    "\n",
    "set1 = {1,2,3,4,5}\n",
    "set2 = {4,5,7,8,9}\n",
    "\n",
    "set1.update(set2)\n",
    "print(\"updated set1 with elements from another set(set2): \",set1)"
   ]
  },
  {
   "cell_type": "code",
   "execution_count": 175,
   "id": "414327de",
   "metadata": {},
   "outputs": [
    {
     "name": "stdout",
     "output_type": "stream",
     "text": [
      "first five prime numbers are:  {2, 3, 5, 7, 11}\n"
     ]
    }
   ],
   "source": [
    "# 21. Create a set of the first 5 prime numbers.\n",
    "\n",
    "def is_prime(n):\n",
    "    if n <= 1:\n",
    "        return False\n",
    "    if n <= 3:\n",
    "        return True\n",
    "    if n % 2 == 0 or n % 3 == 0:\n",
    "        return False\n",
    "    i = 5\n",
    "    while i * i <= n:\n",
    "        if n % i == 0 or n % (i + 2) == 0:\n",
    "            return False\n",
    "        i += 6\n",
    "    return True\n",
    "\n",
    "primes = set()\n",
    "num = 2\n",
    "while len(primes) < 5:\n",
    "    if is_prime(num):\n",
    "        primes.add(num)\n",
    "    num += 1\n",
    "\n",
    "print(\"first five prime numbers are: \",primes)\n"
   ]
  },
  {
   "cell_type": "code",
   "execution_count": 176,
   "id": "d6e19505",
   "metadata": {},
   "outputs": [
    {
     "name": "stdout",
     "output_type": "stream",
     "text": [
      "Two sets are identical\n"
     ]
    }
   ],
   "source": [
    "# 22. Check if two sets are identical.\n",
    "\n",
    "set1 =  {1,2,3,4,5}\n",
    "set2 = {1,2,3,4,5}\n",
    "\n",
    "if set1==set2:\n",
    "    print(\"Two sets are identical\")\n",
    "else:\n",
    "    print(\"Two sets are Not identical\")\n",
    "\n"
   ]
  },
  {
   "cell_type": "code",
   "execution_count": 177,
   "id": "f7f86aaf",
   "metadata": {},
   "outputs": [
    {
     "name": "stdout",
     "output_type": "stream",
     "text": [
      "frozen set:  frozenset({1, 2, 3, 4, 5})\n"
     ]
    }
   ],
   "source": [
    "# 23. Create a frozen set.\n",
    "my_list =  [1,2,3,4,5]\n",
    "\n",
    "frozen = frozenset(my_list)\n",
    "\n",
    "print(\"frozen set: \",frozen)\n",
    "\n"
   ]
  },
  {
   "cell_type": "code",
   "execution_count": 178,
   "id": "1296be6c",
   "metadata": {},
   "outputs": [
    {
     "name": "stdout",
     "output_type": "stream",
     "text": [
      "status of set is disjoint with another set:  True\n"
     ]
    }
   ],
   "source": [
    "# 24. Check if a set is disjoint with another set.\n",
    "\n",
    "set1 =  {1,2,3,4,5}\n",
    "set2 = {6,7,8,9,10}\n",
    "disjoint = set1.isdisjoint(set2)\n",
    "\n",
    "print(\"status of set is disjoint with another set: \",disjoint)"
   ]
  },
  {
   "cell_type": "code",
   "execution_count": 179,
   "id": "8f77c435",
   "metadata": {},
   "outputs": [
    {
     "name": "stdout",
     "output_type": "stream",
     "text": [
      " set of squares of numbers from 1 to 5:  {1, 4, 9, 16, 25}\n"
     ]
    }
   ],
   "source": [
    "# 25. Create a set of squares of numbers from 1 to 5.\n",
    "\n",
    "squares_set = set()\n",
    "\n",
    "\n",
    "for num in range(1, 6):\n",
    "   \n",
    "    square = num ** 2\n",
    "    squares_set.add(square)\n",
    "print(\" set of squares of numbers from 1 to 5: \",squares_set)"
   ]
  },
  {
   "cell_type": "code",
   "execution_count": 180,
   "id": "c2229c9b",
   "metadata": {},
   "outputs": [
    {
     "name": "stdout",
     "output_type": "stream",
     "text": [
      "All even numbers from a set: {2, 4, 6, 8, 10}\n"
     ]
    }
   ],
   "source": [
    "# 26. Filter out all even numbers from a set.\n",
    "\n",
    "my_set= {1,2,3,4,5,6,7,8,9,10}\n",
    "even_num = set()\n",
    "for i in my_set:\n",
    "    if i%2==0:\n",
    "        even_num.add(i)\n",
    "        \n",
    "print(\"All even numbers from a set:\",even_num)\n",
    "        "
   ]
  },
  {
   "cell_type": "code",
   "execution_count": 181,
   "id": "d53bef93",
   "metadata": {},
   "outputs": [
    {
     "name": "stdout",
     "output_type": "stream",
     "text": [
      "Multipules of all elements in a set by 2: {2, 4, 6, 8, 10, 12, 14, 16, 18, 20}\n"
     ]
    }
   ],
   "source": [
    "# 27. Multiply all elements in a set by 2.\n",
    "\n",
    "my_set= {1,2,3,4,5,6,7,8,9,10}\n",
    "multiplied = set()\n",
    "for i in my_set:\n",
    "    multiplied_i = i*2\n",
    "    multiplied.add(multiplied_i)\n",
    "    \n",
    "print(\"Multipules of all elements in a set by 2:\",multiplied)"
   ]
  },
  {
   "cell_type": "code",
   "execution_count": 182,
   "id": "a877f676",
   "metadata": {},
   "outputs": [
    {
     "name": "stdout",
     "output_type": "stream",
     "text": [
      "set of random numbers:  {35, 40, 9, 76, 80, 19, 21, 90, 60, 95}\n"
     ]
    }
   ],
   "source": [
    "# 28. Create a set of random numbers.\n",
    "import random\n",
    "\n",
    "# Generate a set of 10 random numbers between 1 and 100\n",
    "random_set = set(random.sample(range(1, 101), 10))\n",
    "\n",
    "print(\"set of random numbers: \",random_set)\n"
   ]
  },
  {
   "cell_type": "code",
   "execution_count": 183,
   "id": "ae82fbbf",
   "metadata": {},
   "outputs": [
    {
     "name": "stdout",
     "output_type": "stream",
     "text": [
      "my set is empty\n"
     ]
    }
   ],
   "source": [
    "# 29. Check if a set is empty.\n",
    "\n",
    "my_set = {}\n",
    "\n",
    "if len(my_set)==0:\n",
    "    print('my set is empty')\n",
    "else:\n",
    "    print('my set is not empty')\n"
   ]
  },
  {
   "cell_type": "code",
   "execution_count": 184,
   "id": "5278d94a",
   "metadata": {},
   "outputs": [
    {
     "name": "stdout",
     "output_type": "stream",
     "text": [
      "Nested Set: {frozenset({1, 2, 3, 4, 5}), frozenset({6, 7, 8, 9, 10})}\n"
     ]
    }
   ],
   "source": [
    "# 30. Create a nested set (hint: use frozenset).\n",
    "\n",
    "set1 = {1, 2, 3, 4, 5}\n",
    "set2 = {6, 7, 8, 9, 10}\n",
    "\n",
    "frozen_set1 = frozenset(set1)\n",
    "frozen_set2 = frozenset(set2)\n",
    "\n",
    "nested_set = {frozen_set1, frozen_set2}\n",
    "\n",
    "print(\"Nested Set:\", nested_set)"
   ]
  },
  {
   "cell_type": "code",
   "execution_count": 185,
   "id": "867b1139",
   "metadata": {},
   "outputs": [
    {
     "name": "stdout",
     "output_type": "stream",
     "text": [
      "Input element to discard from a set: 3\n",
      "Removed an element from a set using the discard method:  {1, 2, 4, 5}\n"
     ]
    }
   ],
   "source": [
    "# 31. Remove an element from a set using the discard method.\n",
    "\n",
    "my_set= {1, 2, 3, 4, 5}\n",
    "element_discard = int(input(\"Input element to discard from a set: \"))\n",
    "my_set.discard(element_discard)\n",
    "print(\"Removed an element from a set using the discard method: \",my_set)"
   ]
  },
  {
   "cell_type": "code",
   "execution_count": 186,
   "id": "650145f9",
   "metadata": {},
   "outputs": [
    {
     "name": "stdout",
     "output_type": "stream",
     "text": [
      "Set 1: {1, 2, 3, 4, 5}\n",
      "Set 2: {4, 5, 6, 7, 8}\n",
      "Is set1 a subset of set2? False\n",
      "Is set2 a subset of set1? False\n",
      "Intersection: {4, 5}\n",
      "Union: {1, 2, 3, 4, 5, 6, 7, 8}\n",
      "Elements in set1 but not in set2: {1, 2, 3}\n",
      "Elements in set2 but not in set1: {8, 6, 7}\n"
     ]
    }
   ],
   "source": [
    "# 32. Compare two sets.\n",
    "\n",
    "set1 = {1, 2, 3, 4, 5}\n",
    "set2 = {4, 5, 6, 7, 8}\n",
    "\n",
    "is_subset = set1.issubset(set2)\n",
    "\n",
    "is_superset = set1.issuperset(set2)\n",
    "\n",
    "intersection = set1.intersection(set2)\n",
    "\n",
    "union = set1.union(set2)\n",
    "\n",
    "difference1 = set1.difference(set2)\n",
    "\n",
    "difference2 = set2.difference(set1)\n",
    "\n",
    "print(\"Set 1:\", set1)\n",
    "print(\"Set 2:\", set2)\n",
    "print(\"Is set1 a subset of set2?\", is_subset)\n",
    "print(\"Is set2 a subset of set1?\", is_superset)\n",
    "print(\"Intersection:\", intersection)\n",
    "print(\"Union:\", union)\n",
    "print(\"Elements in set1 but not in set2:\", difference1)\n",
    "print(\"Elements in set2 but not in set1:\", difference2)"
   ]
  },
  {
   "cell_type": "code",
   "execution_count": 188,
   "id": "1d1e62db",
   "metadata": {},
   "outputs": [
    {
     "name": "stdout",
     "output_type": "stream",
     "text": [
      "Enter a string to create a setpwskills\n",
      "set from input string:  {'l', 'w', 'p', 's', 'i', 'k'}\n"
     ]
    }
   ],
   "source": [
    "# 33. Create a set from a string.\n",
    "\n",
    "input_string = input(\"Enter a string to create a set\")\n",
    "\n",
    "set_string = set(input_string)\n",
    "\n",
    "print(\"set from input string: \",set_string)"
   ]
  },
  {
   "cell_type": "code",
   "execution_count": 189,
   "id": "ffe6e698",
   "metadata": {},
   "outputs": [
    {
     "name": "stdout",
     "output_type": "stream",
     "text": [
      "converted strings set {1, 2, 3, 4, 5}\n"
     ]
    }
   ],
   "source": [
    "# 34. Convert a set of strings to a set of integers.\n",
    "\n",
    "set1 = {'1','2','3','4','5'}\n",
    "integers = set()\n",
    "for string in set1:\n",
    "    integer_value = int(string)\n",
    "    integers.add(integer_value)\n",
    "print(\"converted strings set\",integers)"
   ]
  },
  {
   "cell_type": "code",
   "execution_count": 190,
   "id": "2038ad8c",
   "metadata": {},
   "outputs": [
    {
     "name": "stdout",
     "output_type": "stream",
     "text": [
      "converted integers set {'1', '5', '3', '4', '2'}\n"
     ]
    }
   ],
   "source": [
    "# 35. Convert a set of integers to a set of strings.\n",
    "\n",
    "set1 = {1, 2, 3, 4, 5}\n",
    "strings = set()\n",
    "for integers in set1:\n",
    "    string_value = str(integers)\n",
    "    strings.add(string_value)\n",
    "print(\"converted integers set\",strings)"
   ]
  },
  {
   "cell_type": "code",
   "execution_count": 191,
   "id": "4931f113",
   "metadata": {},
   "outputs": [
    {
     "name": "stdout",
     "output_type": "stream",
     "text": [
      "set from a tuple:  {1, 2, 3, 4, 5}\n"
     ]
    }
   ],
   "source": [
    "# 36. Create a set from a tuple.\n",
    "\n",
    "tuples = (1, 2, 3, 4, 5)\n",
    "\n",
    "tuples_set = set(tuples)\n",
    "\n",
    "print(\"set from a tuple: \",tuples_set)\n"
   ]
  },
  {
   "cell_type": "code",
   "execution_count": 192,
   "id": "0b0ca6d4",
   "metadata": {},
   "outputs": [
    {
     "name": "stdout",
     "output_type": "stream",
     "text": [
      "tuples from a set:  (1, 2, 3, 4, 5)\n"
     ]
    }
   ],
   "source": [
    "# 37. Convert a set to a tuple.\n",
    "\n",
    "set1 = {1, 2, 3, 4, 5}\n",
    "\n",
    "set_tuples = tuple(set1)\n",
    "\n",
    "print(\"tuples from a set: \",set_tuples)\n"
   ]
  },
  {
   "cell_type": "code",
   "execution_count": 193,
   "id": "79e0921f",
   "metadata": {},
   "outputs": [
    {
     "name": "stdout",
     "output_type": "stream",
     "text": [
      "maximum value in a set:  5\n"
     ]
    }
   ],
   "source": [
    "# 38. Find the maximum value in a set.\n",
    "\n",
    "set1 = {1, 2, 3, 4, 5}\n",
    "max_value = max(set1)\n",
    "print(\"maximum value in a set: \",max_value)"
   ]
  },
  {
   "cell_type": "code",
   "execution_count": 194,
   "id": "54f5b0b0",
   "metadata": {},
   "outputs": [
    {
     "name": "stdout",
     "output_type": "stream",
     "text": [
      "minimum value in a set:  1\n"
     ]
    }
   ],
   "source": [
    "# 39. Find the minimum value in a set.\n",
    "\n",
    "set1 ={1,2,3,4,5}\n",
    "min_value = min(set1)\n",
    "print(\"minimum value in a set: \",min_value)"
   ]
  },
  {
   "cell_type": "code",
   "execution_count": 195,
   "id": "0da449d5",
   "metadata": {},
   "outputs": [
    {
     "name": "stdout",
     "output_type": "stream",
     "text": [
      "Enter elements separated by spaces: pwskills data science\n",
      "Set created using loop: {'pwskills', 'data', 'science'}\n"
     ]
    }
   ],
   "source": [
    "# 40. Create a set from user input.\n",
    "\n",
    "def create_set_with_loop():\n",
    "    user_input = input(\"Enter elements separated by spaces: \")\n",
    "    elements = user_input.split()  \n",
    "    my_set = set(elements)  \n",
    "    return my_set\n",
    "\n",
    "\n",
    "set_created_with_loop = create_set_with_loop()\n",
    "print(\"Set created using loop:\", set_created_with_loop)\n",
    "\n"
   ]
  },
  {
   "cell_type": "code",
   "execution_count": 196,
   "id": "8506e2ba",
   "metadata": {},
   "outputs": [
    {
     "name": "stdout",
     "output_type": "stream",
     "text": [
      "set is empty\n"
     ]
    }
   ],
   "source": [
    "# 41. Check if the intersection of two sets is empty.\n",
    "\n",
    "set1 = {1,2,3,4}\n",
    "set2 = {5,6,7,8}\n",
    "\n",
    "empty_set = set1.intersection(set2)\n",
    "\n",
    "if len(empty_set)==0:\n",
    "    print(\"set is empty\")\n",
    "else:\n",
    "    print(\"set is not empty\")\n",
    "\n"
   ]
  },
  {
   "cell_type": "code",
   "execution_count": 197,
   "id": "d4fae0c8",
   "metadata": {},
   "outputs": [
    {
     "name": "stdout",
     "output_type": "stream",
     "text": [
      "Set of the first 5 Fibonacci numbers: {0, 1, 2, 3}\n"
     ]
    }
   ],
   "source": [
    "# 42. Create a set of the first 5 Fibonacci numbers.\n",
    "\n",
    "def generate_fibonacci(n):\n",
    "    fibonacci_set = set()\n",
    "    a, b = 0, 1\n",
    "    for _ in range(n):\n",
    "        fibonacci_set.add(a)\n",
    "        a, b = b, a + b\n",
    "    return fibonacci_set\n",
    "\n",
    "# Generating a set of the first 5 Fibonacci numbers\n",
    "fibonacci_set = generate_fibonacci(5)\n",
    "print(\"Set of the first 5 Fibonacci numbers:\", fibonacci_set)\n"
   ]
  },
  {
   "cell_type": "code",
   "execution_count": 198,
   "id": "c30891fc",
   "metadata": {},
   "outputs": [
    {
     "name": "stdout",
     "output_type": "stream",
     "text": [
      "Removed duplicates from a list using sets\n"
     ]
    }
   ],
   "source": [
    "# 43. Remove duplicates from a list using sets.\n",
    "\n",
    "my_list = [1,2,2,3,4,5,6,5,4,6,7,8]\n",
    "\n",
    "remove_duplicate = set(my_list)\n",
    "\n",
    "list_elements = list(remove_duplicate)\n",
    "\n",
    "print(\"Removed duplicates from a list using sets\")"
   ]
  },
  {
   "cell_type": "code",
   "execution_count": 199,
   "id": "3e4844db",
   "metadata": {},
   "outputs": [
    {
     "name": "stdout",
     "output_type": "stream",
     "text": [
      "Do set1 and set2 have the same elements?  True\n",
      "Do set1 and set3 have the same elements?  False\n"
     ]
    }
   ],
   "source": [
    "# 44. Check if two sets have the same elements, regardless of their count.\n",
    "\n",
    "def same_elements(set1, set2):\n",
    "    return set1.symmetric_difference(set2) == set()\n",
    "\n",
    "set1 = {1, 2, 3, 4, 5}\n",
    "set2 = {5, 4, 3, 2, 1}\n",
    "set3 = {1, 2, 3}\n",
    "\n",
    "print(\"Do set1 and set2 have the same elements? \", same_elements(set1, set2))\n",
    "\n",
    "print(\"Do set1 and set3 have the same elements? \", same_elements(set1, set3))\n"
   ]
  },
  {
   "cell_type": "code",
   "execution_count": 200,
   "id": "c177f4f1",
   "metadata": {},
   "outputs": [
    {
     "name": "stdout",
     "output_type": "stream",
     "text": [
      "Set of the first n powers of 2: {1, 2, 4, 8, 16}\n"
     ]
    }
   ],
   "source": [
    "# 45. Create a set of the first `n` powers of 2.\n",
    "\n",
    "def powers_of_2(n):\n",
    "    powers_2 = set()\n",
    "\n",
    "    for i in range(n):\n",
    "        power = 2 ** i\n",
    "        powers_2.add(power)\n",
    "    return powers_2\n",
    "\n",
    "n = 5\n",
    "p_sets = powers_of_2(n)\n",
    "print(\"Set of the first n powers of 2:\", p_sets)\n"
   ]
  },
  {
   "cell_type": "code",
   "execution_count": 201,
   "id": "feac8a36",
   "metadata": {},
   "outputs": [
    {
     "name": "stdout",
     "output_type": "stream",
     "text": [
      "Common elements between a set and list: [7, 9, 12]\n"
     ]
    }
   ],
   "source": [
    "# 46. Find the common elements between a set and a list.\n",
    "\n",
    "my_list =[7, 12, 5, 9] \n",
    "my_set = {3, 7, 9, 12, 15}\n",
    "common_element = []\n",
    "          \n",
    "list_set = set(my_list)\n",
    "          \n",
    "for i in my_set:\n",
    "    if i in list_set:\n",
    "        common_element.append(i)\n",
    "print(\"Common elements between a set and list:\" ,common_element)\n"
   ]
  },
  {
   "cell_type": "code",
   "execution_count": 202,
   "id": "e7912408",
   "metadata": {},
   "outputs": [
    {
     "name": "stdout",
     "output_type": "stream",
     "text": [
      "Enter the value of n: 5\n",
      "The set of the first triangular numbers is: {1, 3, 6, 10, 15}\n"
     ]
    }
   ],
   "source": [
    "# 47. Create a set of the first `n` triangular numbers.\n",
    "\n",
    "def generate_triangular(n):\n",
    "    triangular_numbers = set() \n",
    "    for i in range(1, n + 1):\n",
    "        triangular_number = i * (i + 1) // 2 \n",
    "        triangular_numbers.add(triangular_number)  \n",
    "    return triangular_numbers\n",
    "\n",
    "n = int(input(\"Enter the value of n: \"))\n",
    "\n",
    "triangular_set = generate_triangular(n)\n",
    "\n",
    "print(f\"The set of the first triangular numbers is:\", triangular_set)"
   ]
  },
  {
   "cell_type": "code",
   "execution_count": 203,
   "id": "6d4554f1",
   "metadata": {},
   "outputs": [
    {
     "name": "stdout",
     "output_type": "stream",
     "text": [
      "set contains another set as subset:  True\n"
     ]
    }
   ],
   "source": [
    "# 48. Check if a set contains another set as a subset.\n",
    "\n",
    "set1 = {1,2,3}\n",
    "set2 = {1,2,3,4,5}\n",
    "\n",
    "subset =  set1.issubset(set2)\n",
    "\n",
    "print(\"set contains another set as subset: \",subset)"
   ]
  },
  {
   "cell_type": "code",
   "execution_count": 204,
   "id": "11f0bf17",
   "metadata": {},
   "outputs": [
    {
     "name": "stdout",
     "output_type": "stream",
     "text": [
      "Set of alternating 1s and 0s of length n: {0, 1}\n"
     ]
    }
   ],
   "source": [
    "# 49. Create a set of alternating 1s and 0s of length `n`.\n",
    "\n",
    "def alternating(n):\n",
    "    elements = set()\n",
    "    for i in range(n):\n",
    "        if i % 2 == 0:\n",
    "            elements.add(1)\n",
    "        else:\n",
    "            elements.add(0)\n",
    "    return elements\n",
    "\n",
    "n = 10\n",
    "result = alternating(n)\n",
    "print(\"Set of alternating 1s and 0s of length n:\", result)\n"
   ]
  },
  {
   "cell_type": "code",
   "execution_count": 205,
   "id": "2f5139ef",
   "metadata": {},
   "outputs": [
    {
     "name": "stdout",
     "output_type": "stream",
     "text": [
      "Multiple merged sets into one: {1, 2, 3, 4, 5, 6, 7}\n"
     ]
    }
   ],
   "source": [
    "# 50. Merge multiple sets into one.\n",
    "set1 = {1, 2, 3}\n",
    "set2 = {3, 4, 5}\n",
    "set3 = {5, 6, 7}\n",
    "\n",
    "merged_set = set1.union(set2, set3)\n",
    "\n",
    "print(\"Multiple merged sets into one:\", merged_set)"
   ]
  },
  {
   "cell_type": "code",
   "execution_count": null,
   "id": "00c4f3cc",
   "metadata": {},
   "outputs": [],
   "source": []
  }
 ],
 "metadata": {
  "kernelspec": {
   "display_name": "Python 3 (ipykernel)",
   "language": "python",
   "name": "python3"
  },
  "language_info": {
   "codemirror_mode": {
    "name": "ipython",
    "version": 3
   },
   "file_extension": ".py",
   "mimetype": "text/x-python",
   "name": "python",
   "nbconvert_exporter": "python",
   "pygments_lexer": "ipython3",
   "version": "3.11.5"
  }
 },
 "nbformat": 4,
 "nbformat_minor": 5
}
